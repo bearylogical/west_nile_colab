{
 "cells": [
  {
   "cell_type": "code",
   "execution_count": 27,
   "metadata": {},
   "outputs": [],
   "source": [
    "# import libraries\n",
    "\n",
    "\n",
    "import pandas as pd\n",
    "import numpy as np\n",
    "\n",
    "from sklearn.linear_model import LinearRegression, ElasticNet, Lasso, Ridge\n",
    "from sklearn.pipeline import make_pipeline, Pipeline\n",
    "from sklearn.preprocessing import PolynomialFeatures, StandardScaler\n",
    "\n",
    "\n",
    "from sklearn.model_selection import train_test_split, cross_val_score, GridSearchCV\n",
    "from sklearn.metrics import mean_squared_error\n",
    "\n",
    "import seaborn as sns\n",
    "import matplotlib.pyplot as plt\n",
    "%matplotlib inline\n",
    "\n",
    "sns.set_style('whitegrid')\n",
    "\n",
    "import warnings\n",
    "def ignore_warn(*args, **kwargs):\n",
    "    pass\n",
    "warnings.warn = ignore_warn #ignore annoying warning (from sklearn and seaborn)"
   ]
  },
  {
   "cell_type": "markdown",
   "metadata": {},
   "source": [
    "## Import Data"
   ]
  },
  {
   "cell_type": "code",
   "execution_count": 30,
   "metadata": {},
   "outputs": [],
   "source": [
    "X = pd.read_csv('./data/X_regression.csv')"
   ]
  },
  {
   "cell_type": "code",
   "execution_count": 47,
   "metadata": {},
   "outputs": [
    {
     "name": "stdout",
     "output_type": "stream",
     "text": [
      "<class 'pandas.core.frame.DataFrame'>\n",
      "RangeIndex: 8610 entries, 0 to 8609\n",
      "Data columns (total 40 columns):\n",
      "Month               8610 non-null int64\n",
      "Species             8610 non-null object\n",
      "Street              8610 non-null object\n",
      "spray_dist          1334 non-null float64\n",
      "spray_status        8610 non-null int64\n",
      "Year                8610 non-null int64\n",
      "Sunset              8610 non-null float64\n",
      "DaylightHrs         8610 non-null float64\n",
      "Tmax                8610 non-null float64\n",
      "Tmin                8610 non-null float64\n",
      "Tavg                8610 non-null float64\n",
      "Depart              8610 non-null float64\n",
      "DewPoint            8610 non-null float64\n",
      "WetBulb             8610 non-null float64\n",
      "Cool                8610 non-null float64\n",
      "WetWeather          8610 non-null int64\n",
      "PrecipTotal         8610 non-null float64\n",
      "StnPressure         8610 non-null float64\n",
      "SeaLevel            8610 non-null float64\n",
      "ResultSpeed         8610 non-null float64\n",
      "ResultDir           8610 non-null float64\n",
      "AvgSpeed            8610 non-null float64\n",
      "Station             8610 non-null int64\n",
      "RH                  8610 non-null float64\n",
      "CoolYearlyCum       8610 non-null float64\n",
      "Sunset7dAvg         8610 non-null float64\n",
      "DaylightHrs7dAvg    8610 non-null float64\n",
      "Tmax7dAvg           8610 non-null float64\n",
      "Tmin7dAvg           8610 non-null float64\n",
      "Tavg7dAvg           8610 non-null float64\n",
      "Depart7dAvg         8610 non-null float64\n",
      "DewPoint7dAvg       8610 non-null float64\n",
      "WetBulb7dAvg        8610 non-null float64\n",
      "Cool7dAvg           8610 non-null float64\n",
      "PrecipTotal7dAvg    8610 non-null float64\n",
      "StnPressure7dAvg    8610 non-null float64\n",
      "SeaLevel7dAvg       8610 non-null float64\n",
      "ResultSpeed7dAvg    8610 non-null float64\n",
      "ResultDir7dAvg      8610 non-null float64\n",
      "AvgSpeed7dAvg       8610 non-null float64\n",
      "dtypes: float64(33), int64(5), object(2)\n",
      "memory usage: 2.6+ MB\n"
     ]
    }
   ],
   "source": [
    "X.info()"
   ]
  },
  {
   "cell_type": "code",
   "execution_count": 49,
   "metadata": {},
   "outputs": [
    {
     "data": {
      "text/plain": [
       "0    8343\n",
       "1     267\n",
       "Name: spray_status, dtype: int64"
      ]
     },
     "execution_count": 49,
     "metadata": {},
     "output_type": "execute_result"
    }
   ],
   "source": [
    "X.spray_status.value_counts()"
   ]
  },
  {
   "cell_type": "code",
   "execution_count": 51,
   "metadata": {},
   "outputs": [
    {
     "data": {
      "text/plain": [
       "count    1334.000000\n",
       "mean       14.334910\n",
       "std        18.290622\n",
       "min         0.000000\n",
       "25%         3.640000\n",
       "50%         7.440000\n",
       "75%        18.452500\n",
       "max        93.130000\n",
       "Name: spray_dist, dtype: float64"
      ]
     },
     "execution_count": 51,
     "metadata": {},
     "output_type": "execute_result"
    }
   ],
   "source": [
    "X.spray_dist.describe()"
   ]
  },
  {
   "cell_type": "markdown",
   "metadata": {},
   "source": [
    "I will just impute NaN values of spray_dist with an arbituary number of 150"
   ]
  },
  {
   "cell_type": "code",
   "execution_count": 53,
   "metadata": {},
   "outputs": [],
   "source": [
    "X.spray_dist.fillna(150, inplace=True)"
   ]
  },
  {
   "cell_type": "code",
   "execution_count": 32,
   "metadata": {},
   "outputs": [],
   "source": [
    "y = pd.read_csv('./data/y_regression.csv')"
   ]
  },
  {
   "cell_type": "code",
   "execution_count": 54,
   "metadata": {},
   "outputs": [],
   "source": [
    "X_dummies = pd.get_dummies(X,drop_first=True,columns=['Species','Street'])"
   ]
  },
  {
   "cell_type": "code",
   "execution_count": 55,
   "metadata": {},
   "outputs": [
    {
     "data": {
      "text/plain": [
       "171"
      ]
     },
     "execution_count": 55,
     "metadata": {},
     "output_type": "execute_result"
    }
   ],
   "source": [
    "X_dummies.shape[1]"
   ]
  },
  {
   "cell_type": "markdown",
   "metadata": {},
   "source": [
    "Obese dataset. We definitely need RFE or regularization later."
   ]
  },
  {
   "cell_type": "code",
   "execution_count": 56,
   "metadata": {},
   "outputs": [
    {
     "data": {
      "text/plain": [
       "StandardScaler(copy=True, with_mean=True, with_std=True)"
      ]
     },
     "execution_count": 56,
     "metadata": {},
     "output_type": "execute_result"
    }
   ],
   "source": [
    "scaler = StandardScaler()\n",
    "scaler.fit(X_dummies)"
   ]
  },
  {
   "cell_type": "code",
   "execution_count": 57,
   "metadata": {},
   "outputs": [
    {
     "data": {
      "text/plain": [
       "0    8550\n",
       "1      60\n",
       "Name: Street_ W MONTANA ST, dtype: int64"
      ]
     },
     "execution_count": 57,
     "metadata": {},
     "output_type": "execute_result"
    }
   ],
   "source": [
    "X_dummies['Street_ W MONTANA ST'].value_counts()"
   ]
  },
  {
   "cell_type": "markdown",
   "metadata": {},
   "source": [
    "### Train Test Split"
   ]
  },
  {
   "cell_type": "code",
   "execution_count": 58,
   "metadata": {},
   "outputs": [],
   "source": [
    "X_train, X_test, y_train, y_test = train_test_split(X_dummies,y,test_size = 0.3, random_state = 666)"
   ]
  },
  {
   "cell_type": "markdown",
   "metadata": {},
   "source": [
    "### OLS Linear Regression"
   ]
  },
  {
   "cell_type": "code",
   "execution_count": 60,
   "metadata": {},
   "outputs": [],
   "source": [
    "# Using RobustScaler as the data could still contain some outliers\n",
    "lr = make_pipeline(StandardScaler(), LinearRegression())"
   ]
  },
  {
   "cell_type": "code",
   "execution_count": 61,
   "metadata": {},
   "outputs": [
    {
     "data": {
      "text/plain": [
       "(0.16561221429981676, 0.15015846820138812)"
      ]
     },
     "execution_count": 61,
     "metadata": {},
     "output_type": "execute_result"
    }
   ],
   "source": [
    "lr.fit(X_train, y_train)\n",
    "lr.score(X_train, y_train), lr.score(X_test, y_test)"
   ]
  },
  {
   "cell_type": "markdown",
   "metadata": {},
   "source": [
    "Even the training score is horrible."
   ]
  },
  {
   "cell_type": "markdown",
   "metadata": {},
   "source": [
    "#### RMSE "
   ]
  },
  {
   "cell_type": "code",
   "execution_count": 62,
   "metadata": {},
   "outputs": [
    {
     "data": {
      "text/plain": [
       "82.14948894400689"
      ]
     },
     "execution_count": 62,
     "metadata": {},
     "output_type": "execute_result"
    }
   ],
   "source": [
    "np.sqrt(mean_squared_error(y_test, lr.predict(X_test)))"
   ]
  }
 ],
 "metadata": {
  "kernelspec": {
   "display_name": "Python 3",
   "language": "python",
   "name": "python3"
  },
  "language_info": {
   "codemirror_mode": {
    "name": "ipython",
    "version": 3
   },
   "file_extension": ".py",
   "mimetype": "text/x-python",
   "name": "python",
   "nbconvert_exporter": "python",
   "pygments_lexer": "ipython3",
   "version": "3.6.8"
  }
 },
 "nbformat": 4,
 "nbformat_minor": 2
}
