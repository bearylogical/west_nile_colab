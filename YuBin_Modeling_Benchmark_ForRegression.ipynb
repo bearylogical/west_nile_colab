{
 "cells": [
  {
   "cell_type": "code",
   "execution_count": 20,
   "metadata": {},
   "outputs": [],
   "source": [
    "# import libraries\n",
    "\n",
    "\n",
    "import pandas as pd\n",
    "import numpy as np\n",
    "\n",
    "from sklearn.linear_model import LinearRegression, ElasticNet, Lasso, Ridge\n",
    "from sklearn.pipeline import make_pipeline, Pipeline\n",
    "from sklearn.preprocessing import PolynomialFeatures, StandardScaler\n",
    "\n",
    "\n",
    "from sklearn.model_selection import train_test_split, cross_val_score, GridSearchCV\n",
    "from sklearn.metrics import mean_squared_error\n",
    "\n",
    "import seaborn as sns\n",
    "import matplotlib.pyplot as plt\n",
    "%matplotlib inline\n",
    "\n",
    "sns.set_style('whitegrid')\n",
    "\n",
    "import warnings\n",
    "def ignore_warn(*args, **kwargs):\n",
    "    pass\n",
    "warnings.warn = ignore_warn #ignore annoying warning (from sklearn and seaborn)"
   ]
  },
  {
   "cell_type": "markdown",
   "metadata": {},
   "source": [
    "## Import Data"
   ]
  },
  {
   "cell_type": "code",
   "execution_count": 21,
   "metadata": {},
   "outputs": [],
   "source": [
    "X = pd.read_csv('./data/X_regression.csv')"
   ]
  },
  {
   "cell_type": "code",
   "execution_count": 22,
   "metadata": {},
   "outputs": [
    {
     "name": "stdout",
     "output_type": "stream",
     "text": [
      "<class 'pandas.core.frame.DataFrame'>\n",
      "RangeIndex: 8610 entries, 0 to 8609\n",
      "Data columns (total 21 columns):\n",
      "Month           8610 non-null int64\n",
      "Species         8610 non-null object\n",
      "Street          8610 non-null object\n",
      "spray_dist      1334 non-null float64\n",
      "spray_status    8610 non-null int64\n",
      "Year            8610 non-null int64\n",
      "Sunset          8610 non-null float64\n",
      "DaylightHrs     8610 non-null float64\n",
      "Tmax            8610 non-null float64\n",
      "Tmin            8610 non-null float64\n",
      "Tavg            8610 non-null float64\n",
      "Depart          8610 non-null float64\n",
      "DewPoint        8610 non-null float64\n",
      "WetBulb         8610 non-null float64\n",
      "Cool            8610 non-null float64\n",
      "PrecipTotal     8610 non-null float64\n",
      "StnPressure     8610 non-null float64\n",
      "SeaLevel        8610 non-null float64\n",
      "ResultSpeed     8610 non-null float64\n",
      "ResultDir       8610 non-null float64\n",
      "AvgSpeed        8610 non-null float64\n",
      "dtypes: float64(16), int64(3), object(2)\n",
      "memory usage: 1.4+ MB\n"
     ]
    }
   ],
   "source": [
    "X.info()"
   ]
  },
  {
   "cell_type": "code",
   "execution_count": 23,
   "metadata": {},
   "outputs": [
    {
     "data": {
      "text/plain": [
       "0    8343\n",
       "1     267\n",
       "Name: spray_status, dtype: int64"
      ]
     },
     "execution_count": 23,
     "metadata": {},
     "output_type": "execute_result"
    }
   ],
   "source": [
    "X.spray_status.value_counts()"
   ]
  },
  {
   "cell_type": "code",
   "execution_count": 24,
   "metadata": {},
   "outputs": [
    {
     "data": {
      "text/plain": [
       "count    1334.000000\n",
       "mean       14.334910\n",
       "std        18.290622\n",
       "min         0.000000\n",
       "25%         3.640000\n",
       "50%         7.440000\n",
       "75%        18.452500\n",
       "max        93.130000\n",
       "Name: spray_dist, dtype: float64"
      ]
     },
     "execution_count": 24,
     "metadata": {},
     "output_type": "execute_result"
    }
   ],
   "source": [
    "X.spray_dist.describe()"
   ]
  },
  {
   "cell_type": "markdown",
   "metadata": {},
   "source": [
    "I will just impute NaN values of spray_dist with an arbituary number of 150 (that's greater than the max)"
   ]
  },
  {
   "cell_type": "code",
   "execution_count": 25,
   "metadata": {},
   "outputs": [],
   "source": [
    "X.spray_dist.fillna(150, inplace=True)"
   ]
  },
  {
   "cell_type": "code",
   "execution_count": 26,
   "metadata": {},
   "outputs": [],
   "source": [
    "y = pd.read_csv('./data/y_regression.csv')"
   ]
  },
  {
   "cell_type": "code",
   "execution_count": 27,
   "metadata": {},
   "outputs": [],
   "source": [
    "X_dummies = pd.get_dummies(X,drop_first=True,columns=['Species','Street'])"
   ]
  },
  {
   "cell_type": "code",
   "execution_count": 28,
   "metadata": {},
   "outputs": [
    {
     "data": {
      "text/plain": [
       "152"
      ]
     },
     "execution_count": 28,
     "metadata": {},
     "output_type": "execute_result"
    }
   ],
   "source": [
    "X_dummies.shape[1]"
   ]
  },
  {
   "cell_type": "markdown",
   "metadata": {},
   "source": [
    "Obese dataset. We definitely need RFE or regularization later."
   ]
  },
  {
   "cell_type": "markdown",
   "metadata": {},
   "source": [
    "### Train Test Split"
   ]
  },
  {
   "cell_type": "code",
   "execution_count": 29,
   "metadata": {},
   "outputs": [],
   "source": [
    "X_train, X_test, y_train, y_test = train_test_split(X_dummies,y,test_size = 0.3, random_state = 666)"
   ]
  },
  {
   "cell_type": "markdown",
   "metadata": {},
   "source": [
    "### OLS Linear Regression"
   ]
  },
  {
   "cell_type": "code",
   "execution_count": 30,
   "metadata": {},
   "outputs": [],
   "source": [
    "# Using RobustScaler as the data could still contain some outliers\n",
    "lr = make_pipeline(StandardScaler(), LinearRegression())"
   ]
  },
  {
   "cell_type": "code",
   "execution_count": 31,
   "metadata": {},
   "outputs": [
    {
     "data": {
      "text/plain": [
       "(0.13485381552283904, -0.08187752988098129)"
      ]
     },
     "execution_count": 31,
     "metadata": {},
     "output_type": "execute_result"
    }
   ],
   "source": [
    "lr.fit(X_train, y_train)\n",
    "lr.score(X_train, y_train), lr.score(X_test, y_test)"
   ]
  },
  {
   "cell_type": "markdown",
   "metadata": {},
   "source": [
    "Even the training score is horrible..."
   ]
  },
  {
   "cell_type": "markdown",
   "metadata": {},
   "source": [
    "#### RMSE "
   ]
  },
  {
   "cell_type": "code",
   "execution_count": 32,
   "metadata": {},
   "outputs": [
    {
     "data": {
      "text/plain": [
       "41.815627085868705"
      ]
     },
     "execution_count": 32,
     "metadata": {},
     "output_type": "execute_result"
    }
   ],
   "source": [
    "np.sqrt(mean_squared_error(y_test, lr.predict(X_test)))"
   ]
  },
  {
   "cell_type": "markdown",
   "metadata": {},
   "source": [
    "### 2. Ridge (L2 Penalty)"
   ]
  },
  {
   "cell_type": "code",
   "execution_count": 33,
   "metadata": {},
   "outputs": [],
   "source": [
    "# Using pipeline and gridsearch to optimize the hyper parameters\n",
    "ridge_pipe= make_pipeline(StandardScaler(), Ridge())"
   ]
  },
  {
   "cell_type": "code",
   "execution_count": 34,
   "metadata": {},
   "outputs": [
    {
     "data": {
      "text/plain": [
       "{'memory': None,\n",
       " 'steps': [('standardscaler',\n",
       "   StandardScaler(copy=True, with_mean=True, with_std=True)),\n",
       "  ('ridge', Ridge(alpha=1.0, copy_X=True, fit_intercept=True, max_iter=None,\n",
       "      normalize=False, random_state=None, solver='auto', tol=0.001))],\n",
       " 'standardscaler': StandardScaler(copy=True, with_mean=True, with_std=True),\n",
       " 'ridge': Ridge(alpha=1.0, copy_X=True, fit_intercept=True, max_iter=None,\n",
       "    normalize=False, random_state=None, solver='auto', tol=0.001),\n",
       " 'standardscaler__copy': True,\n",
       " 'standardscaler__with_mean': True,\n",
       " 'standardscaler__with_std': True,\n",
       " 'ridge__alpha': 1.0,\n",
       " 'ridge__copy_X': True,\n",
       " 'ridge__fit_intercept': True,\n",
       " 'ridge__max_iter': None,\n",
       " 'ridge__normalize': False,\n",
       " 'ridge__random_state': None,\n",
       " 'ridge__solver': 'auto',\n",
       " 'ridge__tol': 0.001}"
      ]
     },
     "execution_count": 34,
     "metadata": {},
     "output_type": "execute_result"
    }
   ],
   "source": [
    "ridge_pipe.get_params()"
   ]
  },
  {
   "cell_type": "code",
   "execution_count": 35,
   "metadata": {},
   "outputs": [],
   "source": [
    "ridge_params = {\n",
    "    'ridge__alpha': np.logspace(0, 5, 200),\n",
    "    'ridge__random_state': [42]\n",
    "}"
   ]
  },
  {
   "cell_type": "code",
   "execution_count": 36,
   "metadata": {},
   "outputs": [
    {
     "name": "stdout",
     "output_type": "stream",
     "text": [
      "Fitting 5 folds for each of 200 candidates, totalling 1000 fits\n"
     ]
    },
    {
     "name": "stderr",
     "output_type": "stream",
     "text": [
      "[Parallel(n_jobs=-1)]: Using backend LokyBackend with 4 concurrent workers.\n",
      "[Parallel(n_jobs=-1)]: Done  76 tasks      | elapsed:    1.7s\n",
      "[Parallel(n_jobs=-1)]: Done 376 tasks      | elapsed:    7.8s\n",
      "[Parallel(n_jobs=-1)]: Done 876 tasks      | elapsed:   19.4s\n",
      "[Parallel(n_jobs=-1)]: Done 1000 out of 1000 | elapsed:   22.7s finished\n"
     ]
    },
    {
     "data": {
      "text/plain": [
       "GridSearchCV(cv=5, error_score='raise-deprecating',\n",
       "       estimator=Pipeline(memory=None,\n",
       "     steps=[('standardscaler', StandardScaler(copy=True, with_mean=True, with_std=True)), ('ridge', Ridge(alpha=1.0, copy_X=True, fit_intercept=True, max_iter=None,\n",
       "   normalize=False, random_state=None, solver='auto', tol=0.001))]),\n",
       "       fit_params=None, iid='warn', n_jobs=-1,\n",
       "       param_grid={'ridge__alpha': array([1.00000e+00, 1.05956e+00, ..., 9.43788e+04, 1.00000e+05]), 'ridge__random_state': [42]},\n",
       "       pre_dispatch='2*n_jobs', refit=True, return_train_score='warn',\n",
       "       scoring=None, verbose=1)"
      ]
     },
     "execution_count": 36,
     "metadata": {},
     "output_type": "execute_result"
    }
   ],
   "source": [
    "gs_ridge = GridSearchCV(estimator = ridge_pipe, \n",
    "                        param_grid = ridge_params,\n",
    "                        verbose = 1,\n",
    "                        n_jobs = -1,\n",
    "                        cv = 5)\n",
    "\n",
    "gs_ridge.fit(X_train, y_train)"
   ]
  },
  {
   "cell_type": "code",
   "execution_count": 25,
   "metadata": {},
   "outputs": [
    {
     "data": {
      "text/plain": [
       "(0.9386710044395351, 0.9226982317777791)"
      ]
     },
     "execution_count": 25,
     "metadata": {},
     "output_type": "execute_result"
    }
   ],
   "source": [
    "gs_ridge.score(X_train, y_train), gs_ridge.score(X_test, y_test)"
   ]
  },
  {
   "cell_type": "markdown",
   "metadata": {},
   "source": [
    "#### RMSE"
   ]
  },
  {
   "cell_type": "code",
   "execution_count": 37,
   "metadata": {},
   "outputs": [
    {
     "data": {
      "text/plain": [
       "38.69639107807072"
      ]
     },
     "execution_count": 37,
     "metadata": {},
     "output_type": "execute_result"
    }
   ],
   "source": [
    "np.sqrt(mean_squared_error(y_test, gs_ridge.predict(X_test)))"
   ]
  },
  {
   "cell_type": "markdown",
   "metadata": {},
   "source": [
    "With regularization and hyperparameters tuning, we are able to bring down the R2 score and RMSE!"
   ]
  },
  {
   "cell_type": "code",
   "execution_count": 42,
   "metadata": {},
   "outputs": [
    {
     "data": {
      "text/plain": [
       "array([ 1.23018732e-01, -9.88179201e-01,  6.37529356e-01, -2.64998867e+00,\n",
       "        1.22210738e+00,  1.01568118e+00,  4.47684597e-01,  6.13600993e-01,\n",
       "        1.80374931e-01, -1.50549847e+00,  1.28914145e+00,  1.36460380e+00,\n",
       "        4.53834657e-01,  8.10984682e-01,  1.75608132e-02, -6.74130035e-02,\n",
       "       -5.69818714e-01,  1.29079890e-01, -1.19295636e+00,  2.58740801e+00,\n",
       "        6.57055926e-01, -2.14954702e+00, -1.98386725e+00, -1.23834086e-01,\n",
       "       -1.62059613e+00,  9.49902450e-01, -4.45938530e-01,  3.55104123e-01,\n",
       "        2.27722070e-01,  4.78840706e-01, -4.44142451e-01, -7.65949957e-01,\n",
       "        2.01559251e-01, -7.24442523e-01, -4.18164123e-01, -4.11913167e-01,\n",
       "       -6.20926063e-01, -5.16197688e-01, -5.34527230e-01, -6.43933735e-01,\n",
       "       -7.37357665e-01, -5.66400062e-01,  2.30097331e-01, -6.86650663e-01,\n",
       "        1.11847956e-01, -6.03169252e-01, -5.68752700e-01, -2.81082169e-01,\n",
       "       -2.73910341e-01, -4.04309167e-01, -6.52755828e-01, -6.05539041e-01,\n",
       "       -5.99406265e-02, -3.14329213e-01, -6.48056282e-02,  5.98637478e-01,\n",
       "        7.01049926e-01, -8.48405874e-01, -1.33664217e-01, -5.97609000e-01,\n",
       "       -8.15594532e-01, -5.17004447e-01, -1.58469573e-04, -3.07865571e-01,\n",
       "       -2.67807907e-01, -5.34909721e-01, -4.90077758e-01, -5.14708746e-01,\n",
       "       -5.14589512e-01, -7.08513027e-01, -6.51572457e-01, -4.59030644e-01,\n",
       "        3.65702771e+00, -6.31935464e-01, -3.74732297e-01, -6.55778850e-01,\n",
       "       -1.47572565e-01, -3.18101099e-01, -6.18136182e-01, -4.75796387e-01,\n",
       "       -4.85016299e-01, -6.34094811e-01, -5.44510884e-01,  1.40971666e+01,\n",
       "       -6.45622110e-01, -7.64011505e-01, -1.86702991e-01, -8.81147466e-01,\n",
       "       -3.86653738e-01, -5.81994235e-01,  1.77140859e-01,  3.04760015e-01,\n",
       "        1.15413032e-02, -6.21319419e-01, -5.52503444e-01, -7.71254524e-01,\n",
       "       -7.02302272e-01, -4.44611822e-01, -4.96190422e-01, -6.39437772e-01,\n",
       "       -2.81291266e-01, -7.29979898e-01, -5.93193701e-01,  4.79623759e+00,\n",
       "       -5.76900499e-01, -1.93319243e-01, -5.10543447e-01, -8.79298393e-01,\n",
       "       -2.87797128e-01, -4.91992105e-01, -6.21226463e-01,  6.16791164e-01,\n",
       "        4.56209042e-01,  2.32313773e-01, -8.64580164e-01, -6.22969450e-01,\n",
       "       -4.71809142e-01, -7.78465826e-01, -2.73121970e-01, -6.17378119e-01,\n",
       "       -2.62395372e-01, -7.03550910e-01, -3.68193537e-01, -1.21695007e-02,\n",
       "        1.73925850e-02, -3.15657850e-01, -5.80276547e-01, -4.76672817e-01,\n",
       "       -4.46383180e-01, -6.62759190e-01, -5.56105493e-01, -9.45473742e-01,\n",
       "       -5.36500365e-01, -5.99808358e-01, -3.22607423e-01, -1.97089192e-01,\n",
       "       -7.19762552e-01, -3.89849171e-01, -6.92495662e-01,  4.17347110e-02,\n",
       "        4.14222807e-01, -5.88602492e-01, -5.88428498e-01, -7.50504750e-01,\n",
       "        7.95094169e-01,  6.80108452e+00, -5.40122330e-01, -1.82215706e-01,\n",
       "       -4.13740225e-01, -3.00703382e-01, -3.64867665e-01, -4.09670713e-01])"
      ]
     },
     "execution_count": 42,
     "metadata": {},
     "output_type": "execute_result"
    }
   ],
   "source": [
    "gs_ridge.best_estimator_.named_steps['ridge'].coef_[0]"
   ]
  },
  {
   "cell_type": "code",
   "execution_count": 41,
   "metadata": {},
   "outputs": [
    {
     "data": {
      "text/plain": [
       "Index(['Month', 'spray_dist', 'spray_status', 'Year', 'Sunset', 'DaylightHrs',\n",
       "       'Tmax', 'Tmin', 'Tavg', 'Depart',\n",
       "       ...\n",
       "       'Street_ W MONTANA ST', 'Street_ W MONTROSE DR', 'Street_ W OHARE',\n",
       "       'Street_ W OHARE AIRPORT', 'Street_ W PERSHING RD',\n",
       "       'Street_ W ROOSEVELT', 'Street_ W ROSCOE ST', 'Street_ W STRONG ST',\n",
       "       'Street_ W SUNNYSIDE AVE', 'Street_ W WEBSTER AVE'],\n",
       "      dtype='object', length=152)"
      ]
     },
     "execution_count": 41,
     "metadata": {},
     "output_type": "execute_result"
    }
   ],
   "source": [
    "X_train.columns"
   ]
  },
  {
   "cell_type": "code",
   "execution_count": 43,
   "metadata": {},
   "outputs": [],
   "source": [
    "# Plot important coefficients\n",
    "coefs = pd.Series(gs_ridge.best_estimator_.named_steps['ridge'].coef_[0], index = X_train.columns)"
   ]
  },
  {
   "cell_type": "code",
   "execution_count": 44,
   "metadata": {},
   "outputs": [
    {
     "name": "stdout",
     "output_type": "stream",
     "text": [
      "Ridge picked 152 features and eliminated the other 0 features\n"
     ]
    },
    {
     "data": {
      "image/png": "[encoded data removed]",
      "text/plain": [
       "<Figure size 720x360 with 1 Axes>"
      ]
     },
     "metadata": {},
     "output_type": "display_data"
    }
   ],
   "source": [
    "print(\"Ridge picked \" + str(sum(coefs != 0)) + \" features and eliminated the other \" +  \\\n",
    "      str(sum(coefs == 0)) + \" features\")\n",
    "imp_coefs = pd.concat([coefs.sort_values().head(10),\n",
    "                     coefs.sort_values().tail(10)])\n",
    "imp_coefs.plot(kind = \"barh\", figsize = (10,5))\n",
    "plt.title(\"Coefficients in the Ridge Model\")\n",
    "plt.show()"
   ]
  }
 ],
 "metadata": {
  "kernelspec": {
   "display_name": "Python 3",
   "language": "python",
   "name": "python3"
  },
  "language_info": {
   "codemirror_mode": {
    "name": "ipython",
    "version": 3
   },
   "file_extension": ".py",
   "mimetype": "text/x-python",
   "name": "python",
   "nbconvert_exporter": "python",
   "pygments_lexer": "ipython3",
   "version": "3.6.8"
  }
 },
 "nbformat": 4,
 "nbformat_minor": 2
}
