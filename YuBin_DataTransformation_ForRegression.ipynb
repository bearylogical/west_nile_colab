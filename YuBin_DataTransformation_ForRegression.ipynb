{
 "cells": [
  {
   "cell_type": "markdown",
   "metadata": {},
   "source": [
    "# Import Libraries"
   ]
  },
  {
   "cell_type": "code",
   "execution_count": 2,
   "metadata": {},
   "outputs": [
    {
     "name": "stdout",
     "output_type": "stream",
     "text": [
      "Requirement already satisfied: haversine in /anaconda/anaconda3/lib/python3.6/site-packages (2.1.1)\n"
     ]
    }
   ],
   "source": [
    "!pip install haversine"
   ]
  },
  {
   "cell_type": "code",
   "execution_count": 3,
   "metadata": {},
   "outputs": [],
   "source": [
    "import pandas as pd\n",
    "import numpy as np\n",
    "import matplotlib.pyplot as plt\n",
    "import seaborn as sns\n",
    "import math\n",
    "import haversine as hv\n",
    "from datetime import timedelta\n",
    "\n",
    "from sklearn.model_selection import train_test_split"
   ]
  },
  {
   "cell_type": "code",
   "execution_count": 4,
   "metadata": {},
   "outputs": [],
   "source": [
    "full_data = pd.read_csv('data/train.csv')\n",
    "weather = pd.read_csv('data/weather_cleaned_stack_back_v2.csv')\n",
    "spray = pd.read_csv('data/spray.csv')"
   ]
  },
  {
   "cell_type": "code",
   "execution_count": 5,
   "metadata": {},
   "outputs": [
    {
     "data": {
      "text/plain": [
       "Index(['Date', 'Address', 'Species', 'Block', 'Street', 'Trap',\n",
       "       'AddressNumberAndStreet', 'Latitude', 'Longitude', 'AddressAccuracy',\n",
       "       'NumMosquitos', 'WnvPresent'],\n",
       "      dtype='object')"
      ]
     },
     "execution_count": 5,
     "metadata": {},
     "output_type": "execute_result"
    }
   ],
   "source": [
    "full_data.columns"
   ]
  },
  {
   "cell_type": "code",
   "execution_count": 6,
   "metadata": {},
   "outputs": [
    {
     "name": "stdout",
     "output_type": "stream",
     "text": [
      "<class 'pandas.core.frame.DataFrame'>\n",
      "RangeIndex: 10506 entries, 0 to 10505\n",
      "Data columns (total 12 columns):\n",
      "Date                      10506 non-null object\n",
      "Address                   10506 non-null object\n",
      "Species                   10506 non-null object\n",
      "Block                     10506 non-null int64\n",
      "Street                    10506 non-null object\n",
      "Trap                      10506 non-null object\n",
      "AddressNumberAndStreet    10506 non-null object\n",
      "Latitude                  10506 non-null float64\n",
      "Longitude                 10506 non-null float64\n",
      "AddressAccuracy           10506 non-null int64\n",
      "NumMosquitos              10506 non-null int64\n",
      "WnvPresent                10506 non-null int64\n",
      "dtypes: float64(2), int64(4), object(6)\n",
      "memory usage: 985.0+ KB\n"
     ]
    }
   ],
   "source": [
    "full_data.info()"
   ]
  },
  {
   "cell_type": "code",
   "execution_count": 7,
   "metadata": {},
   "outputs": [
    {
     "data": {
      "text/plain": [
       "['Date',\n",
       " 'Address',\n",
       " 'Species',\n",
       " 'Block',\n",
       " 'Street',\n",
       " 'Trap',\n",
       " 'AddressNumberAndStreet',\n",
       " 'Latitude',\n",
       " 'Longitude',\n",
       " 'AddressAccuracy',\n",
       " 'NumMosquitos',\n",
       " 'WnvPresent']"
      ]
     },
     "execution_count": 7,
     "metadata": {},
     "output_type": "execute_result"
    }
   ],
   "source": [
    "full_data.columns.to_list()"
   ]
  },
  {
   "cell_type": "code",
   "execution_count": 8,
   "metadata": {},
   "outputs": [],
   "source": [
    "weather.drop(['Unnamed: 0'],axis=1,inplace=True)"
   ]
  },
  {
   "cell_type": "code",
   "execution_count": 9,
   "metadata": {},
   "outputs": [
    {
     "data": {
      "text/plain": [
       "Date                 object\n",
       "Sunset              float64\n",
       "DaylightHrs         float64\n",
       "Tmax                float64\n",
       "Tmin                float64\n",
       "Tavg                float64\n",
       "Depart              float64\n",
       "DewPoint            float64\n",
       "WetBulb             float64\n",
       "Cool                float64\n",
       "WetWeather            int64\n",
       "PrecipTotal         float64\n",
       "StnPressure         float64\n",
       "SeaLevel            float64\n",
       "ResultSpeed         float64\n",
       "ResultDir           float64\n",
       "AvgSpeed            float64\n",
       "Station               int64\n",
       "RH                  float64\n",
       "CoolYearlyCum       float64\n",
       "Sunset7dAvg         float64\n",
       "DaylightHrs7dAvg    float64\n",
       "Tmax7dAvg           float64\n",
       "Tmin7dAvg           float64\n",
       "Tavg7dAvg           float64\n",
       "Depart7dAvg         float64\n",
       "DewPoint7dAvg       float64\n",
       "WetBulb7dAvg        float64\n",
       "Cool7dAvg           float64\n",
       "PrecipTotal7dAvg    float64\n",
       "StnPressure7dAvg    float64\n",
       "SeaLevel7dAvg       float64\n",
       "ResultSpeed7dAvg    float64\n",
       "ResultDir7dAvg      float64\n",
       "AvgSpeed7dAvg       float64\n",
       "dtype: object"
      ]
     },
     "execution_count": 9,
     "metadata": {},
     "output_type": "execute_result"
    }
   ],
   "source": [
    "weather.dtypes"
   ]
  },
  {
   "cell_type": "code",
   "execution_count": 10,
   "metadata": {},
   "outputs": [],
   "source": [
    "spray = spray.drop_duplicates(subset=['Latitude', 'Longitude'], keep=False)"
   ]
  },
  {
   "cell_type": "code",
   "execution_count": 11,
   "metadata": {},
   "outputs": [
    {
     "data": {
      "text/plain": [
       "2013-08-15    2668\n",
       "2013-08-29    2302\n",
       "2013-07-17    2202\n",
       "2013-07-25    1607\n",
       "2013-08-22    1587\n",
       "2011-09-07    1571\n",
       "2013-08-08    1195\n",
       "2013-09-05     924\n",
       "2013-08-16     141\n",
       "2011-08-29      95\n",
       "Name: Date, dtype: int64"
      ]
     },
     "execution_count": 11,
     "metadata": {},
     "output_type": "execute_result"
    }
   ],
   "source": [
    "spray.Date.value_counts()"
   ]
  },
  {
   "cell_type": "markdown",
   "metadata": {},
   "source": [
    "## Feature Engineering\n",
    "\n",
    "Distance to nearest spray point within 3 days of each day."
   ]
  },
  {
   "cell_type": "code",
   "execution_count": 12,
   "metadata": {},
   "outputs": [],
   "source": [
    "spray.Date = spray.Date.astype('datetime64[ns]')\n",
    "full_data.Date = full_data.Date.astype('datetime64[ns]')\n",
    "weather.Date = weather.Date.astype('datetime64[ns]')"
   ]
  },
  {
   "cell_type": "code",
   "execution_count": 13,
   "metadata": {},
   "outputs": [
    {
     "data": {
      "text/plain": [
       "0   2007-05-01\n",
       "1   2007-05-02\n",
       "2   2007-05-03\n",
       "3   2007-05-04\n",
       "4   2007-05-05\n",
       "Name: Date, dtype: datetime64[ns]"
      ]
     },
     "execution_count": 13,
     "metadata": {},
     "output_type": "execute_result"
    }
   ],
   "source": [
    "weather.Date.head()"
   ]
  },
  {
   "cell_type": "code",
   "execution_count": 14,
   "metadata": {},
   "outputs": [
    {
     "data": {
      "text/plain": [
       "2939   2014-10-27\n",
       "2940   2014-10-28\n",
       "2941   2014-10-29\n",
       "2942   2014-10-30\n",
       "2943   2014-10-31\n",
       "Name: Date, dtype: datetime64[ns]"
      ]
     },
     "execution_count": 14,
     "metadata": {},
     "output_type": "execute_result"
    }
   ],
   "source": [
    "weather.Date.tail()"
   ]
  },
  {
   "cell_type": "code",
   "execution_count": 15,
   "metadata": {},
   "outputs": [
    {
     "data": {
      "text/plain": [
       "0   2007-05-29\n",
       "1   2007-05-29\n",
       "2   2007-05-29\n",
       "3   2007-05-29\n",
       "4   2007-05-29\n",
       "Name: Date, dtype: datetime64[ns]"
      ]
     },
     "execution_count": 15,
     "metadata": {},
     "output_type": "execute_result"
    }
   ],
   "source": [
    "full_data.Date.head()"
   ]
  },
  {
   "cell_type": "markdown",
   "metadata": {},
   "source": [
    "We don't have trap / mosquito / wnv data for the years of even number. Let it be...it will be a left join for full_data with weather"
   ]
  },
  {
   "cell_type": "code",
   "execution_count": 16,
   "metadata": {},
   "outputs": [
    {
     "data": {
      "text/plain": [
       "10501   2013-09-26\n",
       "10502   2013-09-26\n",
       "10503   2013-09-26\n",
       "10504   2013-09-26\n",
       "10505   2013-09-26\n",
       "Name: Date, dtype: datetime64[ns]"
      ]
     },
     "execution_count": 16,
     "metadata": {},
     "output_type": "execute_result"
    }
   ],
   "source": [
    "full_data.Date.tail()"
   ]
  },
  {
   "cell_type": "code",
   "execution_count": 17,
   "metadata": {},
   "outputs": [
    {
     "data": {
      "text/plain": [
       "14830   2013-09-05\n",
       "14831   2013-09-05\n",
       "14832   2013-09-05\n",
       "14833   2013-09-05\n",
       "14834   2013-09-05\n",
       "Name: Date, dtype: datetime64[ns]"
      ]
     },
     "execution_count": 17,
     "metadata": {},
     "output_type": "execute_result"
    }
   ],
   "source": [
    "spray.Date.tail()"
   ]
  },
  {
   "cell_type": "code",
   "execution_count": 18,
   "metadata": {},
   "outputs": [
    {
     "data": {
      "text/plain": [
       "Timestamp('2013-09-26 00:00:00')"
      ]
     },
     "execution_count": 18,
     "metadata": {},
     "output_type": "execute_result"
    }
   ],
   "source": [
    "full_data.Date[10505]"
   ]
  },
  {
   "cell_type": "code",
   "execution_count": 19,
   "metadata": {},
   "outputs": [],
   "source": [
    "start_date = full_data.Date[7576]\n",
    "end_date = start_date + timedelta(days=7)"
   ]
  },
  {
   "cell_type": "code",
   "execution_count": 22,
   "metadata": {},
   "outputs": [
    {
     "data": {
      "text/plain": [
       "1571"
      ]
     },
     "execution_count": 22,
     "metadata": {},
     "output_type": "execute_result"
    }
   ],
   "source": [
    "mask = (spray.Date >= start_date) & (spray.Date <= end_date)\n",
    "spray_subset = spray[mask]\n",
    "spray_subset.shape[0]"
   ]
  },
  {
   "cell_type": "code",
   "execution_count": 23,
   "metadata": {},
   "outputs": [],
   "source": [
    "spray['coords'] = spray.apply(lambda x: ([x.Latitude, x.Longitude]), axis=1)"
   ]
  },
  {
   "cell_type": "code",
   "execution_count": 28,
   "metadata": {},
   "outputs": [],
   "source": [
    "def nearest_spray(date, in_coords, n_diff=7):   \n",
    "  \n",
    "    start_date = date\n",
    "    end_date = date + timedelta(days=n_diff)\n",
    "    mask = (spray.Date >= start_date) & (spray.Date <= end_date)\n",
    "    spray_subset = spray[mask]\n",
    "    \n",
    "    if not spray_subset.empty:\n",
    "        dist = [hv.haversine(in_coords,coord) for coord in (spray_subset.coords)]     \n",
    "        return round(min(dist),2)\n",
    "    else:\n",
    "        # print('empty_subset')\n",
    "        return np.nan\n"
   ]
  },
  {
   "cell_type": "code",
   "execution_count": 29,
   "metadata": {},
   "outputs": [
    {
     "name": "stdout",
     "output_type": "stream",
     "text": [
      "CPU times: user 2 µs, sys: 0 ns, total: 2 µs\n",
      "Wall time: 5.25 µs\n"
     ]
    }
   ],
   "source": [
    "%time\n",
    "\n",
    "full_data['spray_dist'] = full_data.apply(lambda x: nearest_spray(x.Date,[x.Latitude, x.Longitude]), axis=1)"
   ]
  },
  {
   "cell_type": "code",
   "execution_count": 30,
   "metadata": {},
   "outputs": [],
   "source": [
    "## spray_status : 1 if less than 7 days and 3 km, else 0\n",
    "full_data['spray_status'] = full_data.apply(lambda x: 1 if (x.spray_dist <= 3) else 0,axis=1)"
   ]
  },
  {
   "cell_type": "code",
   "execution_count": 31,
   "metadata": {},
   "outputs": [
    {
     "data": {
      "text/plain": [
       "0    10208\n",
       "1      298\n",
       "Name: spray_status, dtype: int64"
      ]
     },
     "execution_count": 31,
     "metadata": {},
     "output_type": "execute_result"
    }
   ],
   "source": [
    "full_data.spray_status.value_counts()"
   ]
  },
  {
   "cell_type": "markdown",
   "metadata": {},
   "source": [
    "We can see that only 298 sites are covered under the spray conditions"
   ]
  },
  {
   "cell_type": "code",
   "execution_count": 32,
   "metadata": {},
   "outputs": [],
   "source": [
    "full_data['Year'] = full_data.Date.map(lambda x : x.year)\n",
    "spray['Year'] = spray.Date.map(lambda x: x.year)"
   ]
  },
  {
   "cell_type": "code",
   "execution_count": 33,
   "metadata": {},
   "outputs": [
    {
     "data": {
      "text/plain": [
       "2013    12626\n",
       "2011     1666\n",
       "Name: Year, dtype: int64"
      ]
     },
     "execution_count": 33,
     "metadata": {},
     "output_type": "execute_result"
    }
   ],
   "source": [
    "spray.Year.value_counts()"
   ]
  },
  {
   "cell_type": "code",
   "execution_count": 34,
   "metadata": {},
   "outputs": [
    {
     "data": {
      "text/plain": [
       "2007    3811\n",
       "2013    2392\n",
       "2009    2249\n",
       "2011    2054\n",
       "Name: Year, dtype: int64"
      ]
     },
     "execution_count": 34,
     "metadata": {},
     "output_type": "execute_result"
    }
   ],
   "source": [
    "full_data.Year.value_counts()"
   ]
  },
  {
   "cell_type": "code",
   "execution_count": 35,
   "metadata": {},
   "outputs": [
    {
     "data": {
      "text/plain": [
       "Year\n",
       "2007    116\n",
       "2009     73\n",
       "2011     80\n",
       "2013     74\n",
       "Name: Trap, dtype: int64"
      ]
     },
     "execution_count": 35,
     "metadata": {},
     "output_type": "execute_result"
    }
   ],
   "source": [
    "full_data.groupby(['Year'])['Trap'].nunique()"
   ]
  },
  {
   "cell_type": "code",
   "execution_count": 43,
   "metadata": {},
   "outputs": [],
   "source": [
    "df = pd.DataFrame(full_data.groupby(['Date','Species','Trap'])['NumMosquitos'].sum())"
   ]
  },
  {
   "cell_type": "code",
   "execution_count": 44,
   "metadata": {},
   "outputs": [],
   "source": [
    "df.reset_index(inplace=True)"
   ]
  },
  {
   "cell_type": "code",
   "execution_count": 45,
   "metadata": {},
   "outputs": [
    {
     "data": {
      "text/html": [
       "<div>\n",
       "<style scoped>\n",
       "    .dataframe tbody tr th:only-of-type {\n",
       "        vertical-align: middle;\n",
       "    }\n",
       "\n",
       "    .dataframe tbody tr th {\n",
       "        vertical-align: top;\n",
       "    }\n",
       "\n",
       "    .dataframe thead th {\n",
       "        text-align: right;\n",
       "    }\n",
       "</style>\n",
       "<table border=\"1\" class=\"dataframe\">\n",
       "  <thead>\n",
       "    <tr style=\"text-align: right;\">\n",
       "      <th></th>\n",
       "      <th>Date</th>\n",
       "      <th>Species</th>\n",
       "      <th>Trap</th>\n",
       "      <th>NumMosquitos</th>\n",
       "    </tr>\n",
       "  </thead>\n",
       "  <tbody>\n",
       "    <tr>\n",
       "      <th>0</th>\n",
       "      <td>2007-05-29</td>\n",
       "      <td>CULEX PIPIENS</td>\n",
       "      <td>T096</td>\n",
       "      <td>1</td>\n",
       "    </tr>\n",
       "    <tr>\n",
       "      <th>1</th>\n",
       "      <td>2007-05-29</td>\n",
       "      <td>CULEX PIPIENS/RESTUANS</td>\n",
       "      <td>T002</td>\n",
       "      <td>1</td>\n",
       "    </tr>\n",
       "    <tr>\n",
       "      <th>2</th>\n",
       "      <td>2007-05-29</td>\n",
       "      <td>CULEX PIPIENS/RESTUANS</td>\n",
       "      <td>T015</td>\n",
       "      <td>1</td>\n",
       "    </tr>\n",
       "    <tr>\n",
       "      <th>3</th>\n",
       "      <td>2007-05-29</td>\n",
       "      <td>CULEX PIPIENS/RESTUANS</td>\n",
       "      <td>T048</td>\n",
       "      <td>1</td>\n",
       "    </tr>\n",
       "    <tr>\n",
       "      <th>4</th>\n",
       "      <td>2007-05-29</td>\n",
       "      <td>CULEX PIPIENS/RESTUANS</td>\n",
       "      <td>T050</td>\n",
       "      <td>1</td>\n",
       "    </tr>\n",
       "  </tbody>\n",
       "</table>\n",
       "</div>"
      ],
      "text/plain": [
       "        Date                 Species  Trap  NumMosquitos\n",
       "0 2007-05-29           CULEX PIPIENS  T096             1\n",
       "1 2007-05-29  CULEX PIPIENS/RESTUANS  T002             1\n",
       "2 2007-05-29  CULEX PIPIENS/RESTUANS  T015             1\n",
       "3 2007-05-29  CULEX PIPIENS/RESTUANS  T048             1\n",
       "4 2007-05-29  CULEX PIPIENS/RESTUANS  T050             1"
      ]
     },
     "execution_count": 45,
     "metadata": {},
     "output_type": "execute_result"
    }
   ],
   "source": [
    "df.head()"
   ]
  },
  {
   "cell_type": "code",
   "execution_count": 46,
   "metadata": {},
   "outputs": [
    {
     "name": "stdout",
     "output_type": "stream",
     "text": [
      "<class 'pandas.core.frame.DataFrame'>\n",
      "RangeIndex: 8475 entries, 0 to 8474\n",
      "Data columns (total 4 columns):\n",
      "Date            8475 non-null datetime64[ns]\n",
      "Species         8475 non-null object\n",
      "Trap            8475 non-null object\n",
      "NumMosquitos    8475 non-null int64\n",
      "dtypes: datetime64[ns](1), int64(1), object(2)\n",
      "memory usage: 264.9+ KB\n"
     ]
    }
   ],
   "source": [
    "df.info()"
   ]
  },
  {
   "cell_type": "code",
   "execution_count": 47,
   "metadata": {},
   "outputs": [],
   "source": [
    "full_data.drop(['NumMosquitos'],axis=1,inplace=True)"
   ]
  },
  {
   "cell_type": "code",
   "execution_count": 48,
   "metadata": {},
   "outputs": [],
   "source": [
    "full_data = full_data.drop_duplicates()"
   ]
  },
  {
   "cell_type": "code",
   "execution_count": 49,
   "metadata": {},
   "outputs": [],
   "source": [
    "full_condensed = pd.merge(df, full_data, how='left',on=['Date','Species','Trap'])"
   ]
  },
  {
   "cell_type": "code",
   "execution_count": 50,
   "metadata": {},
   "outputs": [
    {
     "name": "stdout",
     "output_type": "stream",
     "text": [
      "<class 'pandas.core.frame.DataFrame'>\n",
      "Int64Index: 8610 entries, 0 to 8609\n",
      "Data columns (total 15 columns):\n",
      "Date                      8610 non-null datetime64[ns]\n",
      "Species                   8610 non-null object\n",
      "Trap                      8610 non-null object\n",
      "NumMosquitos              8610 non-null int64\n",
      "Address                   8610 non-null object\n",
      "Block                     8610 non-null int64\n",
      "Street                    8610 non-null object\n",
      "AddressNumberAndStreet    8610 non-null object\n",
      "Latitude                  8610 non-null float64\n",
      "Longitude                 8610 non-null float64\n",
      "AddressAccuracy           8610 non-null int64\n",
      "WnvPresent                8610 non-null int64\n",
      "spray_dist                1334 non-null float64\n",
      "spray_status              8610 non-null int64\n",
      "Year                      8610 non-null int64\n",
      "dtypes: datetime64[ns](1), float64(3), int64(6), object(5)\n",
      "memory usage: 1.1+ MB\n"
     ]
    }
   ],
   "source": [
    "full_condensed.info()"
   ]
  },
  {
   "cell_type": "code",
   "execution_count": 51,
   "metadata": {},
   "outputs": [
    {
     "data": {
      "text/plain": [
       "Date         14292\n",
       "Time         13708\n",
       "Latitude     14292\n",
       "Longitude    14292\n",
       "coords       14292\n",
       "Year         14292\n",
       "dtype: int64"
      ]
     },
     "execution_count": 51,
     "metadata": {},
     "output_type": "execute_result"
    }
   ],
   "source": [
    "spray.count()"
   ]
  },
  {
   "cell_type": "code",
   "execution_count": 52,
   "metadata": {},
   "outputs": [],
   "source": [
    "weather.Date = weather.Date.astype('datetime64[ns]')"
   ]
  },
  {
   "cell_type": "code",
   "execution_count": 53,
   "metadata": {},
   "outputs": [],
   "source": [
    "weather['Year'] = weather.Date.map(lambda x : x.year)"
   ]
  },
  {
   "cell_type": "code",
   "execution_count": 54,
   "metadata": {},
   "outputs": [
    {
     "data": {
      "text/plain": [
       "2013    368\n",
       "2011    368\n",
       "2009    368\n",
       "2007    368\n",
       "2014    368\n",
       "2012    368\n",
       "2010    368\n",
       "2008    368\n",
       "Name: Year, dtype: int64"
      ]
     },
     "execution_count": 54,
     "metadata": {},
     "output_type": "execute_result"
    }
   ],
   "source": [
    "weather.Year.value_counts()"
   ]
  },
  {
   "cell_type": "markdown",
   "metadata": {},
   "source": [
    "## Weather data Mapping"
   ]
  },
  {
   "cell_type": "code",
   "execution_count": 55,
   "metadata": {},
   "outputs": [],
   "source": [
    "STATIONS = {\n",
    "    1 : (41.995,-87.933),\n",
    "    2 : (41.786,-87.752)\n",
    "}"
   ]
  },
  {
   "cell_type": "code",
   "execution_count": 56,
   "metadata": {},
   "outputs": [],
   "source": [
    "def nearest_station(in_coords):\n",
    "    \n",
    "    dist = {k:hv.haversine(in_coords,v) for k,v in STATIONS.items()}\n",
    "    \n",
    "    return min(dist, key=dist.get)\n"
   ]
  },
  {
   "cell_type": "code",
   "execution_count": 57,
   "metadata": {},
   "outputs": [],
   "source": [
    "weather = pd.read_csv('data/weather_cleaned_stack_back_v2.csv')\n",
    "weather.drop(columns='Unnamed: 0',inplace=True)"
   ]
  },
  {
   "cell_type": "code",
   "execution_count": 58,
   "metadata": {},
   "outputs": [
    {
     "data": {
      "text/html": [
       "<div>\n",
       "<style scoped>\n",
       "    .dataframe tbody tr th:only-of-type {\n",
       "        vertical-align: middle;\n",
       "    }\n",
       "\n",
       "    .dataframe tbody tr th {\n",
       "        vertical-align: top;\n",
       "    }\n",
       "\n",
       "    .dataframe thead th {\n",
       "        text-align: right;\n",
       "    }\n",
       "</style>\n",
       "<table border=\"1\" class=\"dataframe\">\n",
       "  <thead>\n",
       "    <tr style=\"text-align: right;\">\n",
       "      <th></th>\n",
       "      <th>Date</th>\n",
       "      <th>Sunset</th>\n",
       "      <th>DaylightHrs</th>\n",
       "      <th>Tmax</th>\n",
       "      <th>Tmin</th>\n",
       "      <th>Tavg</th>\n",
       "      <th>Depart</th>\n",
       "      <th>DewPoint</th>\n",
       "      <th>WetBulb</th>\n",
       "      <th>Cool</th>\n",
       "      <th>...</th>\n",
       "      <th>Depart7dAvg</th>\n",
       "      <th>DewPoint7dAvg</th>\n",
       "      <th>WetBulb7dAvg</th>\n",
       "      <th>Cool7dAvg</th>\n",
       "      <th>PrecipTotal7dAvg</th>\n",
       "      <th>StnPressure7dAvg</th>\n",
       "      <th>SeaLevel7dAvg</th>\n",
       "      <th>ResultSpeed7dAvg</th>\n",
       "      <th>ResultDir7dAvg</th>\n",
       "      <th>AvgSpeed7dAvg</th>\n",
       "    </tr>\n",
       "  </thead>\n",
       "  <tbody>\n",
       "    <tr>\n",
       "      <th>0</th>\n",
       "      <td>2007-05-01</td>\n",
       "      <td>18.82</td>\n",
       "      <td>14.02</td>\n",
       "      <td>83.0</td>\n",
       "      <td>50.0</td>\n",
       "      <td>67.0</td>\n",
       "      <td>14.0</td>\n",
       "      <td>51.0</td>\n",
       "      <td>56.0</td>\n",
       "      <td>2.0</td>\n",
       "      <td>...</td>\n",
       "      <td>14.000000</td>\n",
       "      <td>51.000000</td>\n",
       "      <td>56.000000</td>\n",
       "      <td>2.000000</td>\n",
       "      <td>0.00000</td>\n",
       "      <td>29.100</td>\n",
       "      <td>29.820</td>\n",
       "      <td>1.70</td>\n",
       "      <td>27.000000</td>\n",
       "      <td>9.200</td>\n",
       "    </tr>\n",
       "    <tr>\n",
       "      <th>1</th>\n",
       "      <td>2007-05-02</td>\n",
       "      <td>18.83</td>\n",
       "      <td>14.05</td>\n",
       "      <td>59.0</td>\n",
       "      <td>42.0</td>\n",
       "      <td>51.0</td>\n",
       "      <td>-3.0</td>\n",
       "      <td>42.0</td>\n",
       "      <td>47.0</td>\n",
       "      <td>0.0</td>\n",
       "      <td>...</td>\n",
       "      <td>5.500000</td>\n",
       "      <td>46.500000</td>\n",
       "      <td>51.500000</td>\n",
       "      <td>1.000000</td>\n",
       "      <td>0.00000</td>\n",
       "      <td>29.240</td>\n",
       "      <td>29.955</td>\n",
       "      <td>7.35</td>\n",
       "      <td>15.500000</td>\n",
       "      <td>11.300</td>\n",
       "    </tr>\n",
       "    <tr>\n",
       "      <th>2</th>\n",
       "      <td>2007-05-03</td>\n",
       "      <td>18.85</td>\n",
       "      <td>14.08</td>\n",
       "      <td>66.0</td>\n",
       "      <td>46.0</td>\n",
       "      <td>56.0</td>\n",
       "      <td>2.0</td>\n",
       "      <td>40.0</td>\n",
       "      <td>48.0</td>\n",
       "      <td>0.0</td>\n",
       "      <td>...</td>\n",
       "      <td>4.333333</td>\n",
       "      <td>44.333333</td>\n",
       "      <td>50.333333</td>\n",
       "      <td>0.666667</td>\n",
       "      <td>0.00000</td>\n",
       "      <td>29.290</td>\n",
       "      <td>30.010</td>\n",
       "      <td>8.80</td>\n",
       "      <td>12.666667</td>\n",
       "      <td>11.500</td>\n",
       "    </tr>\n",
       "    <tr>\n",
       "      <th>3</th>\n",
       "      <td>2007-05-04</td>\n",
       "      <td>18.87</td>\n",
       "      <td>14.14</td>\n",
       "      <td>66.0</td>\n",
       "      <td>49.0</td>\n",
       "      <td>58.0</td>\n",
       "      <td>4.0</td>\n",
       "      <td>41.0</td>\n",
       "      <td>50.0</td>\n",
       "      <td>0.0</td>\n",
       "      <td>...</td>\n",
       "      <td>4.250000</td>\n",
       "      <td>43.500000</td>\n",
       "      <td>50.250000</td>\n",
       "      <td>0.500000</td>\n",
       "      <td>0.00025</td>\n",
       "      <td>29.295</td>\n",
       "      <td>30.020</td>\n",
       "      <td>9.20</td>\n",
       "      <td>11.500000</td>\n",
       "      <td>11.325</td>\n",
       "    </tr>\n",
       "    <tr>\n",
       "      <th>4</th>\n",
       "      <td>2007-05-05</td>\n",
       "      <td>18.88</td>\n",
       "      <td>14.16</td>\n",
       "      <td>66.0</td>\n",
       "      <td>53.0</td>\n",
       "      <td>60.0</td>\n",
       "      <td>5.0</td>\n",
       "      <td>38.0</td>\n",
       "      <td>49.0</td>\n",
       "      <td>0.0</td>\n",
       "      <td>...</td>\n",
       "      <td>4.400000</td>\n",
       "      <td>42.400000</td>\n",
       "      <td>50.000000</td>\n",
       "      <td>0.400000</td>\n",
       "      <td>0.00040</td>\n",
       "      <td>29.316</td>\n",
       "      <td>30.036</td>\n",
       "      <td>9.70</td>\n",
       "      <td>10.600000</td>\n",
       "      <td>11.460</td>\n",
       "    </tr>\n",
       "  </tbody>\n",
       "</table>\n",
       "<p>5 rows × 35 columns</p>\n",
       "</div>"
      ],
      "text/plain": [
       "        Date  Sunset  DaylightHrs  Tmax  Tmin  Tavg  Depart  DewPoint  \\\n",
       "0 2007-05-01   18.82        14.02  83.0  50.0  67.0    14.0      51.0   \n",
       "1 2007-05-02   18.83        14.05  59.0  42.0  51.0    -3.0      42.0   \n",
       "2 2007-05-03   18.85        14.08  66.0  46.0  56.0     2.0      40.0   \n",
       "3 2007-05-04   18.87        14.14  66.0  49.0  58.0     4.0      41.0   \n",
       "4 2007-05-05   18.88        14.16  66.0  53.0  60.0     5.0      38.0   \n",
       "\n",
       "   WetBulb  Cool  ...  Depart7dAvg  DewPoint7dAvg  WetBulb7dAvg  Cool7dAvg  \\\n",
       "0     56.0   2.0  ...    14.000000      51.000000     56.000000   2.000000   \n",
       "1     47.0   0.0  ...     5.500000      46.500000     51.500000   1.000000   \n",
       "2     48.0   0.0  ...     4.333333      44.333333     50.333333   0.666667   \n",
       "3     50.0   0.0  ...     4.250000      43.500000     50.250000   0.500000   \n",
       "4     49.0   0.0  ...     4.400000      42.400000     50.000000   0.400000   \n",
       "\n",
       "   PrecipTotal7dAvg  StnPressure7dAvg  SeaLevel7dAvg  ResultSpeed7dAvg  \\\n",
       "0           0.00000            29.100         29.820              1.70   \n",
       "1           0.00000            29.240         29.955              7.35   \n",
       "2           0.00000            29.290         30.010              8.80   \n",
       "3           0.00025            29.295         30.020              9.20   \n",
       "4           0.00040            29.316         30.036              9.70   \n",
       "\n",
       "   ResultDir7dAvg  AvgSpeed7dAvg  \n",
       "0       27.000000          9.200  \n",
       "1       15.500000         11.300  \n",
       "2       12.666667         11.500  \n",
       "3       11.500000         11.325  \n",
       "4       10.600000         11.460  \n",
       "\n",
       "[5 rows x 35 columns]"
      ]
     },
     "execution_count": 58,
     "metadata": {},
     "output_type": "execute_result"
    }
   ],
   "source": [
    "weather.Date = weather.Date.astype('datetime64[ns]')\n",
    "weather.head()"
   ]
  },
  {
   "cell_type": "code",
   "execution_count": 59,
   "metadata": {},
   "outputs": [],
   "source": [
    "full_condensed['nearest_station'] = full_condensed.apply(lambda x: nearest_station([x.Latitude, x.Longitude]), axis=1)"
   ]
  },
  {
   "cell_type": "code",
   "execution_count": 60,
   "metadata": {},
   "outputs": [
    {
     "data": {
      "text/plain": [
       "2    6090\n",
       "1    2520\n",
       "Name: nearest_station, dtype: int64"
      ]
     },
     "execution_count": 60,
     "metadata": {},
     "output_type": "execute_result"
    }
   ],
   "source": [
    "full_condensed.nearest_station.value_counts()"
   ]
  },
  {
   "cell_type": "code",
   "execution_count": 61,
   "metadata": {},
   "outputs": [],
   "source": [
    "full_condensed['date_lag'] = full_condensed.Date.map(lambda x : x - timedelta(days=7))"
   ]
  },
  {
   "cell_type": "code",
   "execution_count": 62,
   "metadata": {},
   "outputs": [],
   "source": [
    "full_weather = full_condensed.merge(weather,left_on=['date_lag','nearest_station'],right_on=['Date','Station'])"
   ]
  },
  {
   "cell_type": "code",
   "execution_count": 63,
   "metadata": {},
   "outputs": [
    {
     "data": {
      "text/plain": [
       "0   2007-05-29\n",
       "1   2007-05-29\n",
       "2   2007-05-29\n",
       "3   2007-05-29\n",
       "4   2007-05-29\n",
       "Name: Date, dtype: datetime64[ns]"
      ]
     },
     "execution_count": 63,
     "metadata": {},
     "output_type": "execute_result"
    }
   ],
   "source": [
    "full_condensed.Date.head()"
   ]
  },
  {
   "cell_type": "code",
   "execution_count": 64,
   "metadata": {},
   "outputs": [
    {
     "data": {
      "text/plain": [
       "0   2007-05-01\n",
       "1   2007-05-02\n",
       "2   2007-05-03\n",
       "3   2007-05-04\n",
       "4   2007-05-05\n",
       "Name: Date, dtype: datetime64[ns]"
      ]
     },
     "execution_count": 64,
     "metadata": {},
     "output_type": "execute_result"
    }
   ],
   "source": [
    "weather.Date.head()"
   ]
  },
  {
   "cell_type": "code",
   "execution_count": 65,
   "metadata": {},
   "outputs": [
    {
     "data": {
      "text/plain": [
       "Index(['Date_x', 'Species', 'Trap', 'NumMosquitos', 'Address', 'Block',\n",
       "       'Street', 'AddressNumberAndStreet', 'Latitude', 'Longitude',\n",
       "       'AddressAccuracy', 'WnvPresent', 'spray_dist', 'spray_status', 'Year',\n",
       "       'nearest_station', 'date_lag', 'Date_y', 'Sunset', 'DaylightHrs',\n",
       "       'Tmax', 'Tmin', 'Tavg', 'Depart', 'DewPoint', 'WetBulb', 'Cool',\n",
       "       'WetWeather', 'PrecipTotal', 'StnPressure', 'SeaLevel', 'ResultSpeed',\n",
       "       'ResultDir', 'AvgSpeed', 'Station', 'RH', 'CoolYearlyCum',\n",
       "       'Sunset7dAvg', 'DaylightHrs7dAvg', 'Tmax7dAvg', 'Tmin7dAvg',\n",
       "       'Tavg7dAvg', 'Depart7dAvg', 'DewPoint7dAvg', 'WetBulb7dAvg',\n",
       "       'Cool7dAvg', 'PrecipTotal7dAvg', 'StnPressure7dAvg', 'SeaLevel7dAvg',\n",
       "       'ResultSpeed7dAvg', 'ResultDir7dAvg', 'AvgSpeed7dAvg'],\n",
       "      dtype='object')"
      ]
     },
     "execution_count": 65,
     "metadata": {},
     "output_type": "execute_result"
    }
   ],
   "source": [
    "full_weather.columns"
   ]
  },
  {
   "cell_type": "code",
   "execution_count": 66,
   "metadata": {},
   "outputs": [],
   "source": [
    "full_weather['Month'] = full_weather.Date_x.map(lambda x : x.month)"
   ]
  },
  {
   "cell_type": "code",
   "execution_count": 67,
   "metadata": {},
   "outputs": [],
   "source": [
    "cols = ['Month','Species','Street','NumMosquitos','spray_dist', \n",
    "        'spray_status', 'Year','Sunset', 'DaylightHrs',\n",
    "        'Tmax', 'Tmin', 'Tavg', 'Depart', 'DewPoint', 'WetBulb', 'Cool',\n",
    "        'WetWeather', 'PrecipTotal', 'StnPressure', 'SeaLevel', 'ResultSpeed',\n",
    "        'ResultDir', 'AvgSpeed', 'Station', 'RH', 'CoolYearlyCum',\n",
    "        'Sunset7dAvg', 'DaylightHrs7dAvg', 'Tmax7dAvg', 'Tmin7dAvg',\n",
    "        'Tavg7dAvg', 'Depart7dAvg', 'DewPoint7dAvg', 'WetBulb7dAvg',\n",
    "        'Cool7dAvg', 'PrecipTotal7dAvg', 'StnPressure7dAvg', 'SeaLevel7dAvg',\n",
    "        'ResultSpeed7dAvg', 'ResultDir7dAvg', 'AvgSpeed7dAvg']"
   ]
  },
  {
   "cell_type": "code",
   "execution_count": 68,
   "metadata": {},
   "outputs": [],
   "source": [
    "full_weather = full_weather[cols]"
   ]
  },
  {
   "cell_type": "code",
   "execution_count": 73,
   "metadata": {},
   "outputs": [
    {
     "data": {
      "text/plain": [
       "Month                 int64\n",
       "Species              object\n",
       "Street               object\n",
       "NumMosquitos          int64\n",
       "spray_dist          float64\n",
       "spray_status          int64\n",
       "Year                  int64\n",
       "Sunset              float64\n",
       "DaylightHrs         float64\n",
       "Tmax                float64\n",
       "Tmin                float64\n",
       "Tavg                float64\n",
       "Depart              float64\n",
       "DewPoint            float64\n",
       "WetBulb             float64\n",
       "Cool                float64\n",
       "WetWeather            int64\n",
       "PrecipTotal         float64\n",
       "StnPressure         float64\n",
       "SeaLevel            float64\n",
       "ResultSpeed         float64\n",
       "ResultDir           float64\n",
       "AvgSpeed            float64\n",
       "Station               int64\n",
       "RH                  float64\n",
       "CoolYearlyCum       float64\n",
       "Sunset7dAvg         float64\n",
       "DaylightHrs7dAvg    float64\n",
       "Tmax7dAvg           float64\n",
       "Tmin7dAvg           float64\n",
       "Tavg7dAvg           float64\n",
       "Depart7dAvg         float64\n",
       "DewPoint7dAvg       float64\n",
       "WetBulb7dAvg        float64\n",
       "Cool7dAvg           float64\n",
       "PrecipTotal7dAvg    float64\n",
       "StnPressure7dAvg    float64\n",
       "SeaLevel7dAvg       float64\n",
       "ResultSpeed7dAvg    float64\n",
       "ResultDir7dAvg      float64\n",
       "AvgSpeed7dAvg       float64\n",
       "dtype: object"
      ]
     },
     "execution_count": 73,
     "metadata": {},
     "output_type": "execute_result"
    }
   ],
   "source": [
    "full_weather.dtypes"
   ]
  },
  {
   "cell_type": "markdown",
   "metadata": {},
   "source": [
    "## Train/Test split"
   ]
  },
  {
   "cell_type": "code",
   "execution_count": 75,
   "metadata": {},
   "outputs": [],
   "source": [
    "y = full_weather['NumMosquitos']\n",
    "X = full_weather[[col for col in full_weather.columns if col != 'NumMosquitos']]"
   ]
  },
  {
   "cell_type": "markdown",
   "metadata": {},
   "source": [
    "## Export to CSV"
   ]
  },
  {
   "cell_type": "code",
   "execution_count": 77,
   "metadata": {},
   "outputs": [],
   "source": [
    "X.to_csv('data/X_regression.csv',index=False)\n",
    "y.to_csv('data/y_regression.csv',index=False, header='NumMosquitos')"
   ]
  },
  {
   "cell_type": "code",
   "execution_count": null,
   "metadata": {},
   "outputs": [],
   "source": []
  }
 ],
 "metadata": {
  "kernelspec": {
   "display_name": "Python 3",
   "language": "python",
   "name": "python3"
  },
  "language_info": {
   "codemirror_mode": {
    "name": "ipython",
    "version": 3
   },
   "file_extension": ".py",
   "mimetype": "text/x-python",
   "name": "python",
   "nbconvert_exporter": "python",
   "pygments_lexer": "ipython3",
   "version": "3.6.8"
  }
 },
 "nbformat": 4,
 "nbformat_minor": 2
}
