{
 "cells": [
  {
   "cell_type": "markdown",
   "metadata": {},
   "source": [
    "# Import Libraries"
   ]
  },
  {
   "cell_type": "code",
   "execution_count": 2,
   "metadata": {},
   "outputs": [],
   "source": [
    "import pandas as pd\n",
    "import numpy as np\n",
    "import matplotlib.pyplot as plt\n",
    "import seaborn as sns\n",
    "import math\n",
    "import haversine as hv\n",
    "from datetime import timedelta\n",
    "\n",
    "from sklearn.model_selection import train_test_split"
   ]
  },
  {
   "cell_type": "code",
   "execution_count": 3,
   "metadata": {},
   "outputs": [],
   "source": [
    "full_data = pd.read_csv('data/train.csv')\n",
    "weather = pd.read_csv('data/weather_cleaned_stack_back.csv')\n",
    "spray = pd.read_csv('data/spray.csv')"
   ]
  },
  {
   "cell_type": "code",
   "execution_count": 4,
   "metadata": {},
   "outputs": [
    {
     "data": {
      "text/plain": [
       "Index(['Date', 'Address', 'Species', 'Block', 'Street', 'Trap',\n",
       "       'AddressNumberAndStreet', 'Latitude', 'Longitude', 'AddressAccuracy',\n",
       "       'NumMosquitos', 'WnvPresent'],\n",
       "      dtype='object')"
      ]
     },
     "execution_count": 4,
     "metadata": {},
     "output_type": "execute_result"
    }
   ],
   "source": [
    "full_data.columns"
   ]
  },
  {
   "cell_type": "code",
   "execution_count": 5,
   "metadata": {},
   "outputs": [
    {
     "name": "stdout",
     "output_type": "stream",
     "text": [
      "<class 'pandas.core.frame.DataFrame'>\n",
      "RangeIndex: 10506 entries, 0 to 10505\n",
      "Data columns (total 12 columns):\n",
      "Date                      10506 non-null object\n",
      "Address                   10506 non-null object\n",
      "Species                   10506 non-null object\n",
      "Block                     10506 non-null int64\n",
      "Street                    10506 non-null object\n",
      "Trap                      10506 non-null object\n",
      "AddressNumberAndStreet    10506 non-null object\n",
      "Latitude                  10506 non-null float64\n",
      "Longitude                 10506 non-null float64\n",
      "AddressAccuracy           10506 non-null int64\n",
      "NumMosquitos              10506 non-null int64\n",
      "WnvPresent                10506 non-null int64\n",
      "dtypes: float64(2), int64(4), object(6)\n",
      "memory usage: 985.0+ KB\n"
     ]
    }
   ],
   "source": [
    "full_data.info()"
   ]
  },
  {
   "cell_type": "code",
   "execution_count": 6,
   "metadata": {},
   "outputs": [
    {
     "data": {
      "text/plain": [
       "['Date',\n",
       " 'Address',\n",
       " 'Species',\n",
       " 'Block',\n",
       " 'Street',\n",
       " 'Trap',\n",
       " 'AddressNumberAndStreet',\n",
       " 'Latitude',\n",
       " 'Longitude',\n",
       " 'AddressAccuracy',\n",
       " 'NumMosquitos',\n",
       " 'WnvPresent']"
      ]
     },
     "execution_count": 6,
     "metadata": {},
     "output_type": "execute_result"
    }
   ],
   "source": [
    "full_data.columns.to_list()"
   ]
  },
  {
   "cell_type": "code",
   "execution_count": 7,
   "metadata": {},
   "outputs": [],
   "source": [
    "weather.drop(['Unnamed: 0'],axis=1,inplace=True)"
   ]
  },
  {
   "cell_type": "code",
   "execution_count": 8,
   "metadata": {},
   "outputs": [
    {
     "data": {
      "text/plain": [
       "Date            object\n",
       "Sunset         float64\n",
       "DaylightHrs    float64\n",
       "Tmax           float64\n",
       "Tmin           float64\n",
       "Tavg           float64\n",
       "Depart         float64\n",
       "DewPoint       float64\n",
       "WetBulb        float64\n",
       "Cool           float64\n",
       "PrecipTotal    float64\n",
       "StnPressure    float64\n",
       "SeaLevel       float64\n",
       "ResultSpeed    float64\n",
       "ResultDir      float64\n",
       "AvgSpeed       float64\n",
       "Station          int64\n",
       "dtype: object"
      ]
     },
     "execution_count": 8,
     "metadata": {},
     "output_type": "execute_result"
    }
   ],
   "source": [
    "weather.dtypes"
   ]
  },
  {
   "cell_type": "code",
   "execution_count": 9,
   "metadata": {},
   "outputs": [],
   "source": [
    "weather.Date = weather.Date.astype('datetime64[ns]')"
   ]
  },
  {
   "cell_type": "code",
   "execution_count": 10,
   "metadata": {},
   "outputs": [],
   "source": [
    "weather['Year'] = weather.Date.map(lambda x : x.year)"
   ]
  },
  {
   "cell_type": "code",
   "execution_count": 11,
   "metadata": {},
   "outputs": [
    {
     "data": {
      "text/plain": [
       "2013    368\n",
       "2011    368\n",
       "2009    368\n",
       "2007    368\n",
       "2014    368\n",
       "2012    368\n",
       "2010    368\n",
       "2008    368\n",
       "Name: Year, dtype: int64"
      ]
     },
     "execution_count": 11,
     "metadata": {},
     "output_type": "execute_result"
    }
   ],
   "source": [
    "weather.Year.value_counts()"
   ]
  },
  {
   "cell_type": "code",
   "execution_count": 12,
   "metadata": {},
   "outputs": [],
   "source": [
    "spray = spray.drop_duplicates(subset=['Latitude', 'Longitude'], keep=False)"
   ]
  },
  {
   "cell_type": "code",
   "execution_count": 13,
   "metadata": {},
   "outputs": [
    {
     "data": {
      "text/plain": [
       "2013-08-15    2668\n",
       "2013-08-29    2302\n",
       "2013-07-17    2202\n",
       "2013-07-25    1607\n",
       "2013-08-22    1587\n",
       "2011-09-07    1571\n",
       "2013-08-08    1195\n",
       "2013-09-05     924\n",
       "2013-08-16     141\n",
       "2011-08-29      95\n",
       "Name: Date, dtype: int64"
      ]
     },
     "execution_count": 13,
     "metadata": {},
     "output_type": "execute_result"
    }
   ],
   "source": [
    "spray.Date.value_counts()"
   ]
  },
  {
   "cell_type": "markdown",
   "metadata": {},
   "source": [
    "## Feature Engineering\n",
    "\n",
    "Distance to nearest spray point within 3 days of each day."
   ]
  },
  {
   "cell_type": "code",
   "execution_count": 14,
   "metadata": {},
   "outputs": [],
   "source": [
    "spray.Date = spray.Date.astype('datetime64[ns]')\n",
    "full_data.Date = full_data.Date.astype('datetime64[ns]')\n",
    "weather.Date = weather.Date.astype('datetime64[ns]')"
   ]
  },
  {
   "cell_type": "code",
   "execution_count": 15,
   "metadata": {},
   "outputs": [
    {
     "data": {
      "text/plain": [
       "0   2007-05-01\n",
       "1   2007-05-02\n",
       "2   2007-05-03\n",
       "3   2007-05-04\n",
       "4   2007-05-05\n",
       "Name: Date, dtype: datetime64[ns]"
      ]
     },
     "execution_count": 15,
     "metadata": {},
     "output_type": "execute_result"
    }
   ],
   "source": [
    "weather.Date.head()"
   ]
  },
  {
   "cell_type": "code",
   "execution_count": 16,
   "metadata": {},
   "outputs": [
    {
     "data": {
      "text/plain": [
       "2939   2014-10-27\n",
       "2940   2014-10-28\n",
       "2941   2014-10-29\n",
       "2942   2014-10-30\n",
       "2943   2014-10-31\n",
       "Name: Date, dtype: datetime64[ns]"
      ]
     },
     "execution_count": 16,
     "metadata": {},
     "output_type": "execute_result"
    }
   ],
   "source": [
    "weather.Date.tail()"
   ]
  },
  {
   "cell_type": "code",
   "execution_count": 17,
   "metadata": {},
   "outputs": [
    {
     "data": {
      "text/plain": [
       "0   2007-05-29\n",
       "1   2007-05-29\n",
       "2   2007-05-29\n",
       "3   2007-05-29\n",
       "4   2007-05-29\n",
       "Name: Date, dtype: datetime64[ns]"
      ]
     },
     "execution_count": 17,
     "metadata": {},
     "output_type": "execute_result"
    }
   ],
   "source": [
    "full_data.Date.head()"
   ]
  },
  {
   "cell_type": "markdown",
   "metadata": {},
   "source": [
    "We don't have trap / mosquito / wnv data for the years of even number. Let it be...it will be a left join for full_data with weather"
   ]
  },
  {
   "cell_type": "code",
   "execution_count": 18,
   "metadata": {},
   "outputs": [
    {
     "data": {
      "text/plain": [
       "10501   2013-09-26\n",
       "10502   2013-09-26\n",
       "10503   2013-09-26\n",
       "10504   2013-09-26\n",
       "10505   2013-09-26\n",
       "Name: Date, dtype: datetime64[ns]"
      ]
     },
     "execution_count": 18,
     "metadata": {},
     "output_type": "execute_result"
    }
   ],
   "source": [
    "full_data.Date.tail()"
   ]
  },
  {
   "cell_type": "code",
   "execution_count": 19,
   "metadata": {},
   "outputs": [
    {
     "data": {
      "text/plain": [
       "14830   2013-09-05\n",
       "14831   2013-09-05\n",
       "14832   2013-09-05\n",
       "14833   2013-09-05\n",
       "14834   2013-09-05\n",
       "Name: Date, dtype: datetime64[ns]"
      ]
     },
     "execution_count": 19,
     "metadata": {},
     "output_type": "execute_result"
    }
   ],
   "source": [
    "spray.Date.tail()"
   ]
  },
  {
   "cell_type": "code",
   "execution_count": 20,
   "metadata": {},
   "outputs": [],
   "source": [
    "start_date = full_data.Date[7576]\n",
    "end_date = start_date + timedelta(days=7)"
   ]
  },
  {
   "cell_type": "code",
   "execution_count": 21,
   "metadata": {},
   "outputs": [
    {
     "data": {
      "text/plain": [
       "1571"
      ]
     },
     "execution_count": 21,
     "metadata": {},
     "output_type": "execute_result"
    }
   ],
   "source": [
    "mask = (spray.Date >= start_date) & (spray.Date <= end_date)\n",
    "spray_subset = spray[mask]\n",
    "spray_subset.shape[0]"
   ]
  },
  {
   "cell_type": "code",
   "execution_count": 22,
   "metadata": {},
   "outputs": [],
   "source": [
    "spray['coords'] = spray.apply(lambda x: ([x.Latitude, x.Longitude]), axis=1)"
   ]
  },
  {
   "cell_type": "code",
   "execution_count": 23,
   "metadata": {},
   "outputs": [],
   "source": [
    "def nearest_spray(date, in_coords, n_diff=7):   \n",
    "  \n",
    "    start_date = date\n",
    "    end_date = date + timedelta(days=n_diff)\n",
    "    mask = (spray.Date >= start_date) & (spray.Date <= end_date)\n",
    "    spray_subset = spray[mask]\n",
    "    \n",
    "    if not spray_subset.empty:\n",
    "        dist = [hv.haversine(in_coords,coord) for coord in (spray_subset.coords)]     \n",
    "        return round(min(dist),2)\n",
    "    else:\n",
    "        # print('empty_subset')\n",
    "        return np.nan\n"
   ]
  },
  {
   "cell_type": "code",
   "execution_count": 24,
   "metadata": {},
   "outputs": [
    {
     "name": "stdout",
     "output_type": "stream",
     "text": [
      "CPU times: user 3 µs, sys: 0 ns, total: 3 µs\n",
      "Wall time: 7.15 µs\n"
     ]
    }
   ],
   "source": [
    "%time\n",
    "\n",
    "full_data['spray_dist'] = full_data.apply(lambda x: nearest_spray(x.Date,[x.Latitude, x.Longitude]), axis=1)"
   ]
  },
  {
   "cell_type": "code",
   "execution_count": 25,
   "metadata": {},
   "outputs": [],
   "source": [
    "## spray_status : 1 if less than 7 days and 3 km, else 0\n",
    "full_data['spray_status'] = full_data.apply(lambda x: 1 if (x.spray_dist <= 3) else 0,axis=1)"
   ]
  },
  {
   "cell_type": "code",
   "execution_count": 26,
   "metadata": {},
   "outputs": [
    {
     "data": {
      "text/plain": [
       "0    10208\n",
       "1      298\n",
       "Name: spray_status, dtype: int64"
      ]
     },
     "execution_count": 26,
     "metadata": {},
     "output_type": "execute_result"
    }
   ],
   "source": [
    "full_data.spray_status.value_counts()"
   ]
  },
  {
   "cell_type": "markdown",
   "metadata": {},
   "source": [
    "We can see that only 298 sites are covered under the spray conditions"
   ]
  },
  {
   "cell_type": "code",
   "execution_count": 27,
   "metadata": {},
   "outputs": [],
   "source": [
    "full_data['Year'] = full_data.Date.map(lambda x : x.year)\n",
    "spray['Year'] = spray.Date.map(lambda x: x.year)"
   ]
  },
  {
   "cell_type": "code",
   "execution_count": 28,
   "metadata": {},
   "outputs": [
    {
     "data": {
      "text/plain": [
       "2013    12626\n",
       "2011     1666\n",
       "Name: Year, dtype: int64"
      ]
     },
     "execution_count": 28,
     "metadata": {},
     "output_type": "execute_result"
    }
   ],
   "source": [
    "spray.Year.value_counts()"
   ]
  },
  {
   "cell_type": "code",
   "execution_count": 29,
   "metadata": {},
   "outputs": [
    {
     "data": {
      "text/plain": [
       "2007    3811\n",
       "2013    2392\n",
       "2009    2249\n",
       "2011    2054\n",
       "Name: Year, dtype: int64"
      ]
     },
     "execution_count": 29,
     "metadata": {},
     "output_type": "execute_result"
    }
   ],
   "source": [
    "full_data.Year.value_counts()"
   ]
  },
  {
   "cell_type": "code",
   "execution_count": 30,
   "metadata": {},
   "outputs": [
    {
     "data": {
      "text/plain": [
       "Year\n",
       "2007    116\n",
       "2009     73\n",
       "2011     80\n",
       "2013     74\n",
       "Name: Trap, dtype: int64"
      ]
     },
     "execution_count": 30,
     "metadata": {},
     "output_type": "execute_result"
    }
   ],
   "source": [
    "full_data.groupby(['Year'])['Trap'].nunique()"
   ]
  },
  {
   "cell_type": "code",
   "execution_count": 31,
   "metadata": {},
   "outputs": [],
   "source": [
    "df = pd.DataFrame(full_data.groupby(['Date','Address','Species',\n",
    "                                     'Block','Street','Trap',\n",
    "                                     'AddressNumberAndStreet',\n",
    "                                     'Latitude','Longitude',\n",
    "                                     'AddressAccuracy', 'WnvPresent'])['NumMosquitos'].sum())"
   ]
  },
  {
   "cell_type": "code",
   "execution_count": 32,
   "metadata": {},
   "outputs": [],
   "source": [
    "df.reset_index(inplace=True)"
   ]
  },
  {
   "cell_type": "code",
   "execution_count": 33,
   "metadata": {},
   "outputs": [
    {
     "data": {
      "text/html": [
       "<div>\n",
       "<style scoped>\n",
       "    .dataframe tbody tr th:only-of-type {\n",
       "        vertical-align: middle;\n",
       "    }\n",
       "\n",
       "    .dataframe tbody tr th {\n",
       "        vertical-align: top;\n",
       "    }\n",
       "\n",
       "    .dataframe thead th {\n",
       "        text-align: right;\n",
       "    }\n",
       "</style>\n",
       "<table border=\"1\" class=\"dataframe\">\n",
       "  <thead>\n",
       "    <tr style=\"text-align: right;\">\n",
       "      <th></th>\n",
       "      <th>Date</th>\n",
       "      <th>Address</th>\n",
       "      <th>Species</th>\n",
       "      <th>Block</th>\n",
       "      <th>Street</th>\n",
       "      <th>Trap</th>\n",
       "      <th>AddressNumberAndStreet</th>\n",
       "      <th>Latitude</th>\n",
       "      <th>Longitude</th>\n",
       "      <th>AddressAccuracy</th>\n",
       "      <th>WnvPresent</th>\n",
       "      <th>NumMosquitos</th>\n",
       "    </tr>\n",
       "  </thead>\n",
       "  <tbody>\n",
       "    <tr>\n",
       "      <th>0</th>\n",
       "      <td>2007-05-29</td>\n",
       "      <td>1100 Roosevelt Road, Chicago, IL 60608, USA</td>\n",
       "      <td>CULEX PIPIENS/RESTUANS</td>\n",
       "      <td>11</td>\n",
       "      <td>W ROOSEVELT</td>\n",
       "      <td>T048</td>\n",
       "      <td>1100  W ROOSEVELT, Chicago, IL</td>\n",
       "      <td>41.867108</td>\n",
       "      <td>-87.654224</td>\n",
       "      <td>8</td>\n",
       "      <td>0</td>\n",
       "      <td>1</td>\n",
       "    </tr>\n",
       "    <tr>\n",
       "      <th>1</th>\n",
       "      <td>2007-05-29</td>\n",
       "      <td>1100 Roosevelt Road, Chicago, IL 60608, USA</td>\n",
       "      <td>CULEX RESTUANS</td>\n",
       "      <td>11</td>\n",
       "      <td>W ROOSEVELT</td>\n",
       "      <td>T048</td>\n",
       "      <td>1100  W ROOSEVELT, Chicago, IL</td>\n",
       "      <td>41.867108</td>\n",
       "      <td>-87.654224</td>\n",
       "      <td>8</td>\n",
       "      <td>0</td>\n",
       "      <td>2</td>\n",
       "    </tr>\n",
       "    <tr>\n",
       "      <th>2</th>\n",
       "      <td>2007-05-29</td>\n",
       "      <td>1100 South Peoria Street, Chicago, IL 60608, USA</td>\n",
       "      <td>CULEX RESTUANS</td>\n",
       "      <td>11</td>\n",
       "      <td>S PEORIA ST</td>\n",
       "      <td>T091</td>\n",
       "      <td>1100  S PEORIA ST, Chicago, IL</td>\n",
       "      <td>41.862292</td>\n",
       "      <td>-87.648860</td>\n",
       "      <td>8</td>\n",
       "      <td>0</td>\n",
       "      <td>1</td>\n",
       "    </tr>\n",
       "    <tr>\n",
       "      <th>3</th>\n",
       "      <td>2007-05-29</td>\n",
       "      <td>1100 West Chicago Avenue, Chicago, IL 60642, USA</td>\n",
       "      <td>CULEX RESTUANS</td>\n",
       "      <td>11</td>\n",
       "      <td>W CHICAGO</td>\n",
       "      <td>T049</td>\n",
       "      <td>1100  W CHICAGO, Chicago, IL</td>\n",
       "      <td>41.896282</td>\n",
       "      <td>-87.655232</td>\n",
       "      <td>8</td>\n",
       "      <td>0</td>\n",
       "      <td>1</td>\n",
       "    </tr>\n",
       "    <tr>\n",
       "      <th>4</th>\n",
       "      <td>2007-05-29</td>\n",
       "      <td>1500 North Long Avenue, Chicago, IL 60651, USA</td>\n",
       "      <td>CULEX RESTUANS</td>\n",
       "      <td>15</td>\n",
       "      <td>N LONG AVE</td>\n",
       "      <td>T153</td>\n",
       "      <td>1500  N LONG AVE, Chicago, IL</td>\n",
       "      <td>41.907645</td>\n",
       "      <td>-87.760886</td>\n",
       "      <td>8</td>\n",
       "      <td>0</td>\n",
       "      <td>1</td>\n",
       "    </tr>\n",
       "  </tbody>\n",
       "</table>\n",
       "</div>"
      ],
      "text/plain": [
       "        Date                                           Address  \\\n",
       "0 2007-05-29       1100 Roosevelt Road, Chicago, IL 60608, USA   \n",
       "1 2007-05-29       1100 Roosevelt Road, Chicago, IL 60608, USA   \n",
       "2 2007-05-29  1100 South Peoria Street, Chicago, IL 60608, USA   \n",
       "3 2007-05-29  1100 West Chicago Avenue, Chicago, IL 60642, USA   \n",
       "4 2007-05-29    1500 North Long Avenue, Chicago, IL 60651, USA   \n",
       "\n",
       "                  Species  Block        Street  Trap  \\\n",
       "0  CULEX PIPIENS/RESTUANS     11   W ROOSEVELT  T048   \n",
       "1          CULEX RESTUANS     11   W ROOSEVELT  T048   \n",
       "2          CULEX RESTUANS     11   S PEORIA ST  T091   \n",
       "3          CULEX RESTUANS     11     W CHICAGO  T049   \n",
       "4          CULEX RESTUANS     15    N LONG AVE  T153   \n",
       "\n",
       "           AddressNumberAndStreet   Latitude  Longitude  AddressAccuracy  \\\n",
       "0  1100  W ROOSEVELT, Chicago, IL  41.867108 -87.654224                8   \n",
       "1  1100  W ROOSEVELT, Chicago, IL  41.867108 -87.654224                8   \n",
       "2  1100  S PEORIA ST, Chicago, IL  41.862292 -87.648860                8   \n",
       "3    1100  W CHICAGO, Chicago, IL  41.896282 -87.655232                8   \n",
       "4   1500  N LONG AVE, Chicago, IL  41.907645 -87.760886                8   \n",
       "\n",
       "   WnvPresent  NumMosquitos  \n",
       "0           0             1  \n",
       "1           0             2  \n",
       "2           0             1  \n",
       "3           0             1  \n",
       "4           0             1  "
      ]
     },
     "execution_count": 33,
     "metadata": {},
     "output_type": "execute_result"
    }
   ],
   "source": [
    "df.head()"
   ]
  },
  {
   "cell_type": "code",
   "execution_count": 34,
   "metadata": {},
   "outputs": [
    {
     "name": "stdout",
     "output_type": "stream",
     "text": [
      "<class 'pandas.core.frame.DataFrame'>\n",
      "RangeIndex: 8610 entries, 0 to 8609\n",
      "Data columns (total 12 columns):\n",
      "Date                      8610 non-null datetime64[ns]\n",
      "Address                   8610 non-null object\n",
      "Species                   8610 non-null object\n",
      "Block                     8610 non-null int64\n",
      "Street                    8610 non-null object\n",
      "Trap                      8610 non-null object\n",
      "AddressNumberAndStreet    8610 non-null object\n",
      "Latitude                  8610 non-null float64\n",
      "Longitude                 8610 non-null float64\n",
      "AddressAccuracy           8610 non-null int64\n",
      "WnvPresent                8610 non-null int64\n",
      "NumMosquitos              8610 non-null int64\n",
      "dtypes: datetime64[ns](1), float64(2), int64(4), object(5)\n",
      "memory usage: 807.3+ KB\n"
     ]
    }
   ],
   "source": [
    "df.info()"
   ]
  },
  {
   "cell_type": "markdown",
   "metadata": {},
   "source": [
    "After 'collapsing' the rows by summing up the number of mosquitos, we reduced the number of rows from 10506 to 8610"
   ]
  },
  {
   "cell_type": "code",
   "execution_count": 35,
   "metadata": {},
   "outputs": [],
   "source": [
    "full_data.drop(['NumMosquitos'],axis=1,inplace=True)"
   ]
  },
  {
   "cell_type": "code",
   "execution_count": 36,
   "metadata": {},
   "outputs": [],
   "source": [
    "full_data = full_data.drop_duplicates()"
   ]
  },
  {
   "cell_type": "code",
   "execution_count": 37,
   "metadata": {},
   "outputs": [
    {
     "data": {
      "text/plain": [
       "8610"
      ]
     },
     "execution_count": 37,
     "metadata": {},
     "output_type": "execute_result"
    }
   ],
   "source": [
    "full_data.shape[0]"
   ]
  },
  {
   "cell_type": "code",
   "execution_count": 38,
   "metadata": {},
   "outputs": [],
   "source": [
    "full_condensed = pd.merge(df, full_data, how='left',on=['Date','Address','Species',\n",
    "                                     'Block','Street','Trap',\n",
    "                                     'AddressNumberAndStreet',\n",
    "                                     'Latitude','Longitude',\n",
    "                                     'AddressAccuracy', 'WnvPresent'])"
   ]
  },
  {
   "cell_type": "code",
   "execution_count": 39,
   "metadata": {},
   "outputs": [
    {
     "name": "stdout",
     "output_type": "stream",
     "text": [
      "<class 'pandas.core.frame.DataFrame'>\n",
      "Int64Index: 8610 entries, 0 to 8609\n",
      "Data columns (total 15 columns):\n",
      "Date                      8610 non-null datetime64[ns]\n",
      "Address                   8610 non-null object\n",
      "Species                   8610 non-null object\n",
      "Block                     8610 non-null int64\n",
      "Street                    8610 non-null object\n",
      "Trap                      8610 non-null object\n",
      "AddressNumberAndStreet    8610 non-null object\n",
      "Latitude                  8610 non-null float64\n",
      "Longitude                 8610 non-null float64\n",
      "AddressAccuracy           8610 non-null int64\n",
      "WnvPresent                8610 non-null int64\n",
      "NumMosquitos              8610 non-null int64\n",
      "spray_dist                1334 non-null float64\n",
      "spray_status              8610 non-null int64\n",
      "Year                      8610 non-null int64\n",
      "dtypes: datetime64[ns](1), float64(3), int64(6), object(5)\n",
      "memory usage: 1.1+ MB\n"
     ]
    }
   ],
   "source": [
    "full_condensed.info()"
   ]
  },
  {
   "cell_type": "markdown",
   "metadata": {},
   "source": [
    "## Weather data Mapping"
   ]
  },
  {
   "cell_type": "code",
   "execution_count": 40,
   "metadata": {},
   "outputs": [],
   "source": [
    "STATIONS = {\n",
    "    1 : (41.995,-87.933),\n",
    "    2 : (41.786,-87.752)\n",
    "}"
   ]
  },
  {
   "cell_type": "code",
   "execution_count": 41,
   "metadata": {},
   "outputs": [],
   "source": [
    "def nearest_station(in_coords):\n",
    "    \n",
    "    dist = {k:hv.haversine(in_coords,v) for k,v in STATIONS.items()}\n",
    "    \n",
    "    return min(dist, key=dist.get)\n"
   ]
  },
  {
   "cell_type": "code",
   "execution_count": 42,
   "metadata": {},
   "outputs": [],
   "source": [
    "full_condensed['nearest_station'] = full_condensed.apply(lambda x: nearest_station([x.Latitude, x.Longitude]), axis=1)"
   ]
  },
  {
   "cell_type": "code",
   "execution_count": 43,
   "metadata": {},
   "outputs": [
    {
     "data": {
      "text/plain": [
       "2    6090\n",
       "1    2520\n",
       "Name: nearest_station, dtype: int64"
      ]
     },
     "execution_count": 43,
     "metadata": {},
     "output_type": "execute_result"
    }
   ],
   "source": [
    "full_condensed.nearest_station.value_counts()"
   ]
  },
  {
   "cell_type": "code",
   "execution_count": 44,
   "metadata": {},
   "outputs": [],
   "source": [
    "full_condensed['date_lag'] = full_condensed.Date.map(lambda x : x - timedelta(days=7))"
   ]
  },
  {
   "cell_type": "code",
   "execution_count": 45,
   "metadata": {},
   "outputs": [],
   "source": [
    "full_condensed = full_condensed.merge(weather,left_on=['date_lag','nearest_station'],right_on=['Date','Station'])"
   ]
  },
  {
   "cell_type": "code",
   "execution_count": 46,
   "metadata": {},
   "outputs": [
    {
     "data": {
      "text/plain": [
       "Date_x                    datetime64[ns]\n",
       "Address                           object\n",
       "Species                           object\n",
       "Block                              int64\n",
       "Street                            object\n",
       "Trap                              object\n",
       "AddressNumberAndStreet            object\n",
       "Latitude                         float64\n",
       "Longitude                        float64\n",
       "AddressAccuracy                    int64\n",
       "WnvPresent                         int64\n",
       "NumMosquitos                       int64\n",
       "spray_dist                       float64\n",
       "spray_status                       int64\n",
       "Year_x                             int64\n",
       "nearest_station                    int64\n",
       "date_lag                  datetime64[ns]\n",
       "Date_y                    datetime64[ns]\n",
       "Sunset                           float64\n",
       "DaylightHrs                      float64\n",
       "Tmax                             float64\n",
       "Tmin                             float64\n",
       "Tavg                             float64\n",
       "Depart                           float64\n",
       "DewPoint                         float64\n",
       "WetBulb                          float64\n",
       "Cool                             float64\n",
       "PrecipTotal                      float64\n",
       "StnPressure                      float64\n",
       "SeaLevel                         float64\n",
       "ResultSpeed                      float64\n",
       "ResultDir                        float64\n",
       "AvgSpeed                         float64\n",
       "Station                            int64\n",
       "Year_y                             int64\n",
       "dtype: object"
      ]
     },
     "execution_count": 46,
     "metadata": {},
     "output_type": "execute_result"
    }
   ],
   "source": [
    "full_condensed.dtypes"
   ]
  },
  {
   "cell_type": "code",
   "execution_count": 47,
   "metadata": {},
   "outputs": [],
   "source": [
    "full_condensed.drop(['Date_y','Year_y'],axis=1, inplace=True)"
   ]
  },
  {
   "cell_type": "code",
   "execution_count": 48,
   "metadata": {},
   "outputs": [],
   "source": [
    "full_condensed.rename(columns={'Date_x': 'Date', 'Year_x': 'Year'},inplace=True)"
   ]
  },
  {
   "cell_type": "code",
   "execution_count": 52,
   "metadata": {},
   "outputs": [
    {
     "data": {
      "text/plain": [
       "Index(['Date', 'Address', 'Species', 'Block', 'Street', 'Trap',\n",
       "       'AddressNumberAndStreet', 'Latitude', 'Longitude', 'AddressAccuracy',\n",
       "       'WnvPresent', 'NumMosquitos', 'spray_dist', 'spray_status', 'Year',\n",
       "       'nearest_station', 'date_lag', 'Sunset', 'DaylightHrs', 'Tmax', 'Tmin',\n",
       "       'Tavg', 'Depart', 'DewPoint', 'WetBulb', 'Cool', 'PrecipTotal',\n",
       "       'StnPressure', 'SeaLevel', 'ResultSpeed', 'ResultDir', 'AvgSpeed',\n",
       "       'Station'],\n",
       "      dtype='object')"
      ]
     },
     "execution_count": 52,
     "metadata": {},
     "output_type": "execute_result"
    }
   ],
   "source": [
    "full_condensed.columns"
   ]
  },
  {
   "cell_type": "code",
   "execution_count": 54,
   "metadata": {},
   "outputs": [],
   "source": [
    "full_condensed['Month'] = full_condensed.Date.map(lambda x : x.month)"
   ]
  },
  {
   "cell_type": "code",
   "execution_count": 61,
   "metadata": {},
   "outputs": [],
   "source": [
    "cols = ['Month','Species','Street','NumMosquitos','spray_dist', \n",
    "        'spray_status', 'Year','Sunset', 'DaylightHrs',\n",
    "        'Tmax', 'Tmin', 'Tavg', 'Depart', 'DewPoint', 'WetBulb', 'Cool',\n",
    "        'PrecipTotal', 'StnPressure', 'SeaLevel', 'ResultSpeed',\n",
    "        'ResultDir', 'AvgSpeed']\n",
    "        \n",
    "        # Note: in the regression problem I kept the \"Year\" feature - this is different from what we did\n",
    "        # for the kaggle classification problem, since our train/test split are created by ourselves, meaning\n",
    "        # they should have a similar mix of records from all years. Therefore it is possible that Year could  \n",
    "        # be inferred for the impact on number of mosquitos.\n",
    "        \n",
    "        # Additional features added in the version2:\n",
    "        \n",
    "        #'WetWeather', 'RH', 'CoolYearlyCum', 'Sunset7dAvg', 'DaylightHrs7dAvg', 'Tmax7dAvg', 'Tmin7dAvg',\n",
    "        #'Tavg7dAvg', 'Depart7dAvg', 'DewPoint7dAvg', 'WetBulb7dAvg',\n",
    "        #'Cool7dAvg', 'PrecipTotal7dAvg', 'StnPressure7dAvg', 'SeaLevel7dAvg',\n",
    "        #'ResultSpeed7dAvg', 'ResultDir7dAvg', 'AvgSpeed7dAvg'"
   ]
  },
  {
   "cell_type": "code",
   "execution_count": 62,
   "metadata": {},
   "outputs": [],
   "source": [
    "full_condensed = full_condensed[cols]"
   ]
  },
  {
   "cell_type": "code",
   "execution_count": 63,
   "metadata": {},
   "outputs": [
    {
     "data": {
      "text/plain": [
       "Month             int64\n",
       "Species          object\n",
       "Street           object\n",
       "NumMosquitos      int64\n",
       "spray_dist      float64\n",
       "spray_status      int64\n",
       "Year              int64\n",
       "Sunset          float64\n",
       "DaylightHrs     float64\n",
       "Tmax            float64\n",
       "Tmin            float64\n",
       "Tavg            float64\n",
       "Depart          float64\n",
       "DewPoint        float64\n",
       "WetBulb         float64\n",
       "Cool            float64\n",
       "PrecipTotal     float64\n",
       "StnPressure     float64\n",
       "SeaLevel        float64\n",
       "ResultSpeed     float64\n",
       "ResultDir       float64\n",
       "AvgSpeed        float64\n",
       "dtype: object"
      ]
     },
     "execution_count": 63,
     "metadata": {},
     "output_type": "execute_result"
    }
   ],
   "source": [
    "full_condensed.dtypes"
   ]
  },
  {
   "cell_type": "markdown",
   "metadata": {},
   "source": [
    "## Train/Test split"
   ]
  },
  {
   "cell_type": "code",
   "execution_count": 65,
   "metadata": {},
   "outputs": [],
   "source": [
    "y = full_condensed['NumMosquitos']\n",
    "X = full_condensed[[col for col in full_condensed.columns if col != 'NumMosquitos']]"
   ]
  },
  {
   "cell_type": "markdown",
   "metadata": {},
   "source": [
    "## Export to CSV"
   ]
  },
  {
   "cell_type": "code",
   "execution_count": 66,
   "metadata": {},
   "outputs": [],
   "source": [
    "X.to_csv('data/X_regression.csv',index=False)\n",
    "y.to_csv('data/y_regression.csv',index=False, header='NumMosquitos')"
   ]
  },
  {
   "cell_type": "code",
   "execution_count": null,
   "metadata": {},
   "outputs": [],
   "source": []
  }
 ],
 "metadata": {
  "kernelspec": {
   "display_name": "Python 3",
   "language": "python",
   "name": "python3"
  },
  "language_info": {
   "codemirror_mode": {
    "name": "ipython",
    "version": 3
   },
   "file_extension": ".py",
   "mimetype": "text/x-python",
   "name": "python",
   "nbconvert_exporter": "python",
   "pygments_lexer": "ipython3",
   "version": "3.6.8"
  }
 },
 "nbformat": 4,
 "nbformat_minor": 2
}
