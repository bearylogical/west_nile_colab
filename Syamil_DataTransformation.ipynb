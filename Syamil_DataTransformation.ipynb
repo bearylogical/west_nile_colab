{
 "cells": [
  {
   "cell_type": "markdown",
   "metadata": {},
   "source": [
    "# Import Libraries"
   ]
  },
  {
   "cell_type": "code",
   "execution_count": 4,
   "metadata": {},
   "outputs": [],
   "source": [
    "import pandas as pd\n",
    "import numpy as np\n",
    "import matplotlib.pyplot as plt\n",
    "import seaborn as sns\n",
    "import math\n",
    "import haversine as hv\n",
    "from datetime import timedelta"
   ]
  },
  {
   "cell_type": "code",
   "execution_count": 5,
   "metadata": {},
   "outputs": [],
   "source": [
    "train = pd.read_csv('train.csv')\n",
    "weather = pd.read_csv('weather.csv')\n",
    "spray = pd.read_csv('spray.csv')\n",
    "test = pd.read_csv('test.csv')"
   ]
  },
  {
   "cell_type": "code",
   "execution_count": 164,
   "metadata": {},
   "outputs": [
    {
     "data": {
      "text/plain": [
       "Index(['Date', 'Address', 'Species', 'Block', 'Street', 'Trap',\n",
       "       'AddressNumberAndStreet', 'Latitude', 'Longitude', 'AddressAccuracy',\n",
       "       'NumMosquitos', 'WnvPresent'],\n",
       "      dtype='object')"
      ]
     },
     "execution_count": 164,
     "metadata": {},
     "output_type": "execute_result"
    }
   ],
   "source": [
    "train.columns"
   ]
  },
  {
   "cell_type": "code",
   "execution_count": 165,
   "metadata": {},
   "outputs": [
    {
     "data": {
      "text/plain": [
       "<matplotlib.axes._subplots.AxesSubplot at 0x11213e630>"
      ]
     },
     "execution_count": 165,
     "metadata": {},
     "output_type": "execute_result"
    },
    {
     "data": {
      "image/png": "[encoded data removed]",
      "text/plain": [
       "<Figure size 432x288 with 1 Axes>"
      ]
     },
     "metadata": {
      "needs_background": "light"
     },
     "output_type": "display_data"
    }
   ],
   "source": [
    "sns.scatterplot(x='Latitude',y='Longitude',data=train)"
   ]
  },
  {
   "cell_type": "code",
   "execution_count": 166,
   "metadata": {},
   "outputs": [
    {
     "data": {
      "text/plain": [
       "Index(['Date', 'Time', 'Latitude', 'Longitude'], dtype='object')"
      ]
     },
     "execution_count": 166,
     "metadata": {},
     "output_type": "execute_result"
    }
   ],
   "source": [
    "spray.columns"
   ]
  },
  {
   "cell_type": "code",
   "execution_count": 167,
   "metadata": {},
   "outputs": [
    {
     "data": {
      "text/plain": [
       "<matplotlib.axes._subplots.AxesSubplot at 0x1121b8940>"
      ]
     },
     "execution_count": 167,
     "metadata": {},
     "output_type": "execute_result"
    },
    {
     "data": {
      "image/png": "[encoded data removed]",
      "text/plain": [
       "<Figure size 432x288 with 1 Axes>"
      ]
     },
     "metadata": {
      "needs_background": "light"
     },
     "output_type": "display_data"
    }
   ],
   "source": [
    "sns.scatterplot(x='Latitude',y='Longitude',data=spray)"
   ]
  },
  {
   "cell_type": "code",
   "execution_count": 168,
   "metadata": {},
   "outputs": [
    {
     "data": {
      "text/plain": [
       "Date                       object\n",
       "Address                    object\n",
       "Species                    object\n",
       "Block                       int64\n",
       "Street                     object\n",
       "Trap                       object\n",
       "AddressNumberAndStreet     object\n",
       "Latitude                  float64\n",
       "Longitude                 float64\n",
       "AddressAccuracy             int64\n",
       "NumMosquitos                int64\n",
       "WnvPresent                  int64\n",
       "dtype: object"
      ]
     },
     "execution_count": 168,
     "metadata": {},
     "output_type": "execute_result"
    }
   ],
   "source": [
    "train.dtypes"
   ]
  },
  {
   "cell_type": "code",
   "execution_count": 169,
   "metadata": {},
   "outputs": [],
   "source": [
    "spray = spray.drop_duplicates(subset=['Latitude', 'Longitude'], keep=False)"
   ]
  },
  {
   "cell_type": "markdown",
   "metadata": {},
   "source": [
    "## Feature Engineering\n",
    "\n",
    "Distance to nearest spray point within 3 days of each day."
   ]
  },
  {
   "cell_type": "code",
   "execution_count": 6,
   "metadata": {},
   "outputs": [],
   "source": [
    "spray.Date = spray.Date.astype('datetime64[ns]')\n",
    "train.Date = train.Date.astype('datetime64[ns]')\n",
    "test.Date = test.Date.astype('datetime64[ns]')"
   ]
  },
  {
   "cell_type": "code",
   "execution_count": 171,
   "metadata": {},
   "outputs": [
    {
     "data": {
      "text/plain": [
       "Timestamp('2007-05-29 00:00:00')"
      ]
     },
     "execution_count": 171,
     "metadata": {},
     "output_type": "execute_result"
    }
   ],
   "source": [
    "train.Date[1]"
   ]
  },
  {
   "cell_type": "code",
   "execution_count": 190,
   "metadata": {},
   "outputs": [
    {
     "data": {
      "text/plain": [
       "0   2008-06-11\n",
       "1   2008-06-11\n",
       "2   2008-06-11\n",
       "3   2008-06-11\n",
       "4   2008-06-11\n",
       "Name: Date, dtype: datetime64[ns]"
      ]
     },
     "execution_count": 190,
     "metadata": {},
     "output_type": "execute_result"
    }
   ],
   "source": [
    "test.Date.head()"
   ]
  },
  {
   "cell_type": "code",
   "execution_count": 172,
   "metadata": {},
   "outputs": [
    {
     "data": {
      "text/plain": [
       "0   2007-05-29\n",
       "1   2007-05-29\n",
       "2   2007-05-29\n",
       "3   2007-05-29\n",
       "4   2007-05-29\n",
       "Name: Date, dtype: datetime64[ns]"
      ]
     },
     "execution_count": 172,
     "metadata": {},
     "output_type": "execute_result"
    }
   ],
   "source": [
    "train.Date.head()"
   ]
  },
  {
   "cell_type": "code",
   "execution_count": 227,
   "metadata": {},
   "outputs": [
    {
     "data": {
      "text/plain": [
       "14830   2013-09-05\n",
       "14831   2013-09-05\n",
       "14832   2013-09-05\n",
       "14833   2013-09-05\n",
       "14834   2013-09-05\n",
       "Name: Date, dtype: datetime64[ns]"
      ]
     },
     "execution_count": 227,
     "metadata": {},
     "output_type": "execute_result"
    }
   ],
   "source": [
    "spray.Date.tail()"
   ]
  },
  {
   "cell_type": "code",
   "execution_count": 229,
   "metadata": {},
   "outputs": [
    {
     "data": {
      "text/html": [
       "<div>\n",
       "<style scoped>\n",
       "    .dataframe tbody tr th:only-of-type {\n",
       "        vertical-align: middle;\n",
       "    }\n",
       "\n",
       "    .dataframe tbody tr th {\n",
       "        vertical-align: top;\n",
       "    }\n",
       "\n",
       "    .dataframe thead th {\n",
       "        text-align: right;\n",
       "    }\n",
       "</style>\n",
       "<table border=\"1\" class=\"dataframe\">\n",
       "  <thead>\n",
       "    <tr style=\"text-align: right;\">\n",
       "      <th></th>\n",
       "      <th>Date</th>\n",
       "      <th>Time</th>\n",
       "      <th>Latitude</th>\n",
       "      <th>Longitude</th>\n",
       "      <th>coords</th>\n",
       "    </tr>\n",
       "  </thead>\n",
       "  <tbody>\n",
       "  </tbody>\n",
       "</table>\n",
       "</div>"
      ],
      "text/plain": [
       "Empty DataFrame\n",
       "Columns: [Date, Time, Latitude, Longitude, coords]\n",
       "Index: []"
      ]
     },
     "metadata": {},
     "output_type": "display_data"
    }
   ],
   "source": [
    "start_date = test.Date[1]\n",
    "end_date = start_date + timedelta(days=30)\n",
    "mask = (start_date <= spray.Date ) & (spray.Date <= end_date)\n",
    "spray_subset = spray[mask]\n",
    "display(spray_subset)"
   ]
  },
  {
   "cell_type": "code",
   "execution_count": 175,
   "metadata": {},
   "outputs": [],
   "source": [
    "spray['coords'] = spray.apply(lambda x: ([x.Latitude, x.Longitude]), axis=1)"
   ]
  },
  {
   "cell_type": "code",
   "execution_count": 233,
   "metadata": {},
   "outputs": [],
   "source": [
    "def nearest_spray(date, in_coords, n_diff=7):\n",
    "    \n",
    "    \n",
    "    start_date = date\n",
    "    end_date = date + timedelta(days=n_diff)\n",
    "    mask = (spray.Date >= start_date) & (spray.Date <= end_date)\n",
    "    spray_subset = spray[mask]\n",
    "    \n",
    "    if not spray_subset.empty:\n",
    "        dist = [hv.haversine(in_coords,coord) for coord in (spray_subset.coords)]     \n",
    "        return round(min(dist),2)\n",
    "    else:\n",
    "        print('empty subset')\n",
    "        return np.nan"
   ]
  },
  {
   "cell_type": "code",
   "execution_count": 179,
   "metadata": {},
   "outputs": [
    {
     "name": "stdout",
     "output_type": "stream",
     "text": [
      "CPU times: user 4 µs, sys: 0 ns, total: 4 µs\n",
      "Wall time: 8.11 µs\n"
     ]
    }
   ],
   "source": [
    "%time\n",
    "train['spray_dist'] = train.apply(lambda x: nearest_spray(x.Date,[x.Latitude, x.Longitude]), axis=1)\n",
    "test['spray_dist'] = test.apply(lambda x: nearest_spray(x.Date,[x.Latitude, x.Longitude]), axis=1)"
   ]
  },
  {
   "cell_type": "code",
   "execution_count": 185,
   "metadata": {},
   "outputs": [],
   "source": [
    "## spray_status : 1 if less than 7 days and 3 km, else 0\n",
    "train['spray_status'] = train.apply(lambda x: 1 if (x.spray_dist <= 3) else 0,axis=1)\n",
    "test['spray_status'] = test.apply(lambda x: 1 if (x.spray_dist <= 3) else 0,axis=1)"
   ]
  },
  {
   "cell_type": "code",
   "execution_count": 182,
   "metadata": {},
   "outputs": [
    {
     "data": {
      "text/plain": [
       "0    10208\n",
       "1      298\n",
       "Name: spray_status, dtype: int64"
      ]
     },
     "execution_count": 182,
     "metadata": {},
     "output_type": "execute_result"
    }
   ],
   "source": [
    "train.spray_status.value_counts()"
   ]
  },
  {
   "cell_type": "markdown",
   "metadata": {},
   "source": [
    "We can see that only 298 sites are covered under the spray conditions"
   ]
  },
  {
   "cell_type": "code",
   "execution_count": 240,
   "metadata": {},
   "outputs": [],
   "source": [
    "test['year'] = test.Date.map(lambda x : x.year)\n",
    "spray['year'] = spray.Date.map(lambda x: x.year)"
   ]
  },
  {
   "cell_type": "code",
   "execution_count": 241,
   "metadata": {},
   "outputs": [
    {
     "data": {
      "text/plain": [
       "2013    12626\n",
       "2011     1666\n",
       "Name: year, dtype: int64"
      ]
     },
     "execution_count": 241,
     "metadata": {},
     "output_type": "execute_result"
    }
   ],
   "source": [
    "spray.year.value_counts()"
   ]
  },
  {
   "cell_type": "code",
   "execution_count": 242,
   "metadata": {},
   "outputs": [
    {
     "data": {
      "text/plain": [
       "2010    36557\n",
       "2008    30498\n",
       "2012    27115\n",
       "2014    22123\n",
       "Name: year, dtype: int64"
      ]
     },
     "execution_count": 242,
     "metadata": {},
     "output_type": "execute_result"
    }
   ],
   "source": [
    "test.year.value_counts()"
   ]
  },
  {
   "cell_type": "code",
   "execution_count": 160,
   "metadata": {},
   "outputs": [
    {
     "data": {
      "text/plain": [
       "Date         14292\n",
       "Time         13708\n",
       "Latitude     14292\n",
       "Longitude    14292\n",
       "coords       14292\n",
       "dtype: int64"
      ]
     },
     "execution_count": 160,
     "metadata": {},
     "output_type": "execute_result"
    }
   ],
   "source": [
    "spray.count()"
   ]
  },
  {
   "cell_type": "code",
   "execution_count": 244,
   "metadata": {},
   "outputs": [],
   "source": [
    "weather.Date = weather.Date.astype('datetime64[ns]')"
   ]
  },
  {
   "cell_type": "code",
   "execution_count": 245,
   "metadata": {},
   "outputs": [],
   "source": [
    "weather['year'] = weather.Date.map(lambda x : x.year)"
   ]
  },
  {
   "cell_type": "code",
   "execution_count": 248,
   "metadata": {},
   "outputs": [
    {
     "data": {
      "text/plain": [
       "2013    368\n",
       "2011    368\n",
       "2009    368\n",
       "2007    368\n",
       "2014    368\n",
       "2012    368\n",
       "2010    368\n",
       "2008    368\n",
       "Name: year, dtype: int64"
      ]
     },
     "execution_count": 248,
     "metadata": {},
     "output_type": "execute_result"
    }
   ],
   "source": [
    "weather.year.value_counts()"
   ]
  },
  {
   "cell_type": "markdown",
   "metadata": {},
   "source": [
    "## Weather data Mapping"
   ]
  },
  {
   "cell_type": "code",
   "execution_count": 1,
   "metadata": {},
   "outputs": [],
   "source": [
    "STATIONS = {\n",
    "    1 : (41.995,-87.933),\n",
    "    2 : (41.786,-87.752)\n",
    "}"
   ]
  },
  {
   "cell_type": "code",
   "execution_count": 8,
   "metadata": {},
   "outputs": [],
   "source": [
    "def nearest_station(in_coords):\n",
    "    \n",
    "    dist = {k:hv.haversine(in_coords,v) for k,v in STATIONS.items()}\n",
    "    \n",
    "    return min(dist, key=dist.get)\n"
   ]
  },
  {
   "cell_type": "code",
   "execution_count": 21,
   "metadata": {},
   "outputs": [],
   "source": [
    "weather = pd.read_csv('weather_cleaned_stack_back.csv')\n",
    "weather.drop(columns='Unnamed: 0',inplace=True)"
   ]
  },
  {
   "cell_type": "code",
   "execution_count": 23,
   "metadata": {},
   "outputs": [
    {
     "data": {
      "text/html": [
       "<div>\n",
       "<style scoped>\n",
       "    .dataframe tbody tr th:only-of-type {\n",
       "        vertical-align: middle;\n",
       "    }\n",
       "\n",
       "    .dataframe tbody tr th {\n",
       "        vertical-align: top;\n",
       "    }\n",
       "\n",
       "    .dataframe thead th {\n",
       "        text-align: right;\n",
       "    }\n",
       "</style>\n",
       "<table border=\"1\" class=\"dataframe\">\n",
       "  <thead>\n",
       "    <tr style=\"text-align: right;\">\n",
       "      <th></th>\n",
       "      <th>Date</th>\n",
       "      <th>Sunset</th>\n",
       "      <th>DaylightHrs</th>\n",
       "      <th>Tmax</th>\n",
       "      <th>Tmin</th>\n",
       "      <th>Tavg</th>\n",
       "      <th>Depart</th>\n",
       "      <th>DewPoint</th>\n",
       "      <th>WetBulb</th>\n",
       "      <th>Cool</th>\n",
       "      <th>PrecipTotal</th>\n",
       "      <th>StnPressure</th>\n",
       "      <th>SeaLevel</th>\n",
       "      <th>ResultSpeed</th>\n",
       "      <th>ResultDir</th>\n",
       "      <th>AvgSpeed</th>\n",
       "      <th>Station</th>\n",
       "    </tr>\n",
       "  </thead>\n",
       "  <tbody>\n",
       "    <tr>\n",
       "      <th>0</th>\n",
       "      <td>2007-05-01</td>\n",
       "      <td>1849</td>\n",
       "      <td>1401</td>\n",
       "      <td>83.0</td>\n",
       "      <td>50.0</td>\n",
       "      <td>67.0</td>\n",
       "      <td>14.0</td>\n",
       "      <td>51.0</td>\n",
       "      <td>56.0</td>\n",
       "      <td>2.0</td>\n",
       "      <td>0.000</td>\n",
       "      <td>29.10</td>\n",
       "      <td>29.82</td>\n",
       "      <td>1.7</td>\n",
       "      <td>27.0</td>\n",
       "      <td>9.2</td>\n",
       "      <td>1</td>\n",
       "    </tr>\n",
       "    <tr>\n",
       "      <th>1</th>\n",
       "      <td>2007-05-02</td>\n",
       "      <td>1850</td>\n",
       "      <td>1403</td>\n",
       "      <td>59.0</td>\n",
       "      <td>42.0</td>\n",
       "      <td>51.0</td>\n",
       "      <td>-3.0</td>\n",
       "      <td>42.0</td>\n",
       "      <td>47.0</td>\n",
       "      <td>0.0</td>\n",
       "      <td>0.000</td>\n",
       "      <td>29.38</td>\n",
       "      <td>30.09</td>\n",
       "      <td>13.0</td>\n",
       "      <td>4.0</td>\n",
       "      <td>13.4</td>\n",
       "      <td>1</td>\n",
       "    </tr>\n",
       "    <tr>\n",
       "      <th>2</th>\n",
       "      <td>2007-05-03</td>\n",
       "      <td>1851</td>\n",
       "      <td>1405</td>\n",
       "      <td>66.0</td>\n",
       "      <td>46.0</td>\n",
       "      <td>56.0</td>\n",
       "      <td>2.0</td>\n",
       "      <td>40.0</td>\n",
       "      <td>48.0</td>\n",
       "      <td>0.0</td>\n",
       "      <td>0.000</td>\n",
       "      <td>29.39</td>\n",
       "      <td>30.12</td>\n",
       "      <td>11.7</td>\n",
       "      <td>7.0</td>\n",
       "      <td>11.9</td>\n",
       "      <td>1</td>\n",
       "    </tr>\n",
       "    <tr>\n",
       "      <th>3</th>\n",
       "      <td>2007-05-04</td>\n",
       "      <td>1852</td>\n",
       "      <td>1408</td>\n",
       "      <td>66.0</td>\n",
       "      <td>49.0</td>\n",
       "      <td>58.0</td>\n",
       "      <td>4.0</td>\n",
       "      <td>41.0</td>\n",
       "      <td>50.0</td>\n",
       "      <td>0.0</td>\n",
       "      <td>0.001</td>\n",
       "      <td>29.31</td>\n",
       "      <td>30.05</td>\n",
       "      <td>10.4</td>\n",
       "      <td>8.0</td>\n",
       "      <td>10.8</td>\n",
       "      <td>1</td>\n",
       "    </tr>\n",
       "    <tr>\n",
       "      <th>4</th>\n",
       "      <td>2007-05-05</td>\n",
       "      <td>1853</td>\n",
       "      <td>1410</td>\n",
       "      <td>66.0</td>\n",
       "      <td>53.0</td>\n",
       "      <td>60.0</td>\n",
       "      <td>5.0</td>\n",
       "      <td>38.0</td>\n",
       "      <td>49.0</td>\n",
       "      <td>0.0</td>\n",
       "      <td>0.001</td>\n",
       "      <td>29.40</td>\n",
       "      <td>30.10</td>\n",
       "      <td>11.7</td>\n",
       "      <td>7.0</td>\n",
       "      <td>12.0</td>\n",
       "      <td>1</td>\n",
       "    </tr>\n",
       "  </tbody>\n",
       "</table>\n",
       "</div>"
      ],
      "text/plain": [
       "        Date  Sunset  DaylightHrs  Tmax  Tmin  Tavg  Depart  DewPoint  \\\n",
       "0 2007-05-01    1849         1401  83.0  50.0  67.0    14.0      51.0   \n",
       "1 2007-05-02    1850         1403  59.0  42.0  51.0    -3.0      42.0   \n",
       "2 2007-05-03    1851         1405  66.0  46.0  56.0     2.0      40.0   \n",
       "3 2007-05-04    1852         1408  66.0  49.0  58.0     4.0      41.0   \n",
       "4 2007-05-05    1853         1410  66.0  53.0  60.0     5.0      38.0   \n",
       "\n",
       "   WetBulb  Cool  PrecipTotal  StnPressure  SeaLevel  ResultSpeed  ResultDir  \\\n",
       "0     56.0   2.0        0.000        29.10     29.82          1.7       27.0   \n",
       "1     47.0   0.0        0.000        29.38     30.09         13.0        4.0   \n",
       "2     48.0   0.0        0.000        29.39     30.12         11.7        7.0   \n",
       "3     50.0   0.0        0.001        29.31     30.05         10.4        8.0   \n",
       "4     49.0   0.0        0.001        29.40     30.10         11.7        7.0   \n",
       "\n",
       "   AvgSpeed  Station  \n",
       "0       9.2        1  \n",
       "1      13.4        1  \n",
       "2      11.9        1  \n",
       "3      10.8        1  \n",
       "4      12.0        1  "
      ]
     },
     "execution_count": 23,
     "metadata": {},
     "output_type": "execute_result"
    }
   ],
   "source": [
    "weather.Date = weather.Date.astype('datetime64[ns]')\n",
    "weather.head()"
   ]
  },
  {
   "cell_type": "code",
   "execution_count": 90,
   "metadata": {},
   "outputs": [],
   "source": [
    "train['nearest_station'] = train.apply(lambda x: nearest_station([x.Latitude, x.Longitude]), axis=1)\n",
    "test['nearest_station'] = test.apply(lambda x: nearest_station([x.Latitude, x.Longitude]), axis=1)"
   ]
  },
  {
   "cell_type": "code",
   "execution_count": 91,
   "metadata": {},
   "outputs": [
    {
     "data": {
      "text/plain": [
       "2    7208\n",
       "1    3298\n",
       "Name: nearest_station, dtype: int64"
      ]
     },
     "execution_count": 91,
     "metadata": {},
     "output_type": "execute_result"
    }
   ],
   "source": [
    "train.nearest_station.value_counts()"
   ]
  },
  {
   "cell_type": "code",
   "execution_count": 92,
   "metadata": {},
   "outputs": [
    {
     "data": {
      "text/plain": [
       "Date                      10506\n",
       "Address                   10506\n",
       "Species                   10506\n",
       "Block                     10506\n",
       "Street                    10506\n",
       "Trap                      10506\n",
       "AddressNumberAndStreet    10506\n",
       "Latitude                  10506\n",
       "Longitude                 10506\n",
       "AddressAccuracy           10506\n",
       "NumMosquitos              10506\n",
       "WnvPresent                10506\n",
       "nearest_station           10506\n",
       "date_lag                  10506\n",
       "dtype: int64"
      ]
     },
     "execution_count": 92,
     "metadata": {},
     "output_type": "execute_result"
    }
   ],
   "source": [
    "train.count()"
   ]
  },
  {
   "cell_type": "code",
   "execution_count": 103,
   "metadata": {},
   "outputs": [],
   "source": [
    "train['date_lag'] = train.Date.map(lambda x : x - timedelta(days=7))\n",
    "test['date_lag'] = test.Date.map(lambda x : x - timedelta(days=7))"
   ]
  },
  {
   "cell_type": "code",
   "execution_count": 104,
   "metadata": {},
   "outputs": [],
   "source": [
    "train_weather = train.merge(weather,left_on=['date_lag','nearest_station'],right_on=['Date','Station'])\n",
    "test_weather = test.merge(weather,left_on=['date_lag','nearest_station'],right_on=['Date','Station'])"
   ]
  },
  {
   "cell_type": "code",
   "execution_count": 105,
   "metadata": {},
   "outputs": [
    {
     "data": {
      "text/plain": [
       "0   2007-05-29\n",
       "1   2007-05-29\n",
       "2   2007-05-29\n",
       "3   2007-05-29\n",
       "4   2007-05-29\n",
       "Name: Date, dtype: datetime64[ns]"
      ]
     },
     "execution_count": 105,
     "metadata": {},
     "output_type": "execute_result"
    }
   ],
   "source": [
    "train.Date.head()"
   ]
  },
  {
   "cell_type": "code",
   "execution_count": 106,
   "metadata": {},
   "outputs": [
    {
     "data": {
      "text/plain": [
       "0   2007-05-01\n",
       "1   2007-05-02\n",
       "2   2007-05-03\n",
       "3   2007-05-04\n",
       "4   2007-05-05\n",
       "Name: Date, dtype: datetime64[ns]"
      ]
     },
     "execution_count": 106,
     "metadata": {},
     "output_type": "execute_result"
    }
   ],
   "source": [
    "weather.Date.head()"
   ]
  },
  {
   "cell_type": "code",
   "execution_count": 107,
   "metadata": {},
   "outputs": [
    {
     "data": {
      "text/plain": [
       "Index(['Date_x', 'Address', 'Species', 'Block', 'Street', 'Trap',\n",
       "       'AddressNumberAndStreet', 'Latitude', 'Longitude', 'AddressAccuracy',\n",
       "       'NumMosquitos', 'WnvPresent', 'nearest_station', 'date_lag', 'Date_y',\n",
       "       'Sunset', 'DaylightHrs', 'Tmax', 'Tmin', 'Tavg', 'Depart', 'DewPoint',\n",
       "       'WetBulb', 'Cool', 'PrecipTotal', 'StnPressure', 'SeaLevel',\n",
       "       'ResultSpeed', 'ResultDir', 'AvgSpeed', 'Station'],\n",
       "      dtype='object')"
      ]
     },
     "execution_count": 107,
     "metadata": {},
     "output_type": "execute_result"
    }
   ],
   "source": [
    "train_weather.columns"
   ]
  },
  {
   "cell_type": "code",
   "execution_count": 108,
   "metadata": {},
   "outputs": [],
   "source": [
    "train_weather['month'] = train_weather.Date_x.map(lambda x : x.month)\n",
    "test_weather['month'] = test_weather.Date_x.map(lambda x : x.month)"
   ]
  },
  {
   "cell_type": "code",
   "execution_count": 1,
   "metadata": {},
   "outputs": [],
   "source": [
    "cols = ['month','Species','NumMosquitos','Sunset', 'Street',\n",
    "       'DaylightHrs', 'Tmax', 'Tmin', 'Tavg', 'Depart', 'DewPoint', 'WetBulb',\n",
    "       'Cool', 'PrecipTotal', 'StnPressure', 'SeaLevel', 'ResultSpeed',\n",
    "       'ResultDir', 'AvgSpeed','WnvPresent']"
   ]
  },
  {
   "cell_type": "code",
   "execution_count": 113,
   "metadata": {},
   "outputs": [],
   "source": [
    "train_weather = train_weather[cols]\n",
    "test_weather = test_weather[['month','Species','Sunset','Street',\n",
    "       'DaylightHrs', 'Tmax', 'Tmin', 'Tavg', 'Depart', 'DewPoint', 'WetBulb',\n",
    "       'Cool', 'PrecipTotal', 'StnPressure', 'SeaLevel', 'ResultSpeed',\n",
    "       'ResultDir', 'AvgSpeed']]"
   ]
  },
  {
   "cell_type": "markdown",
   "metadata": {},
   "source": [
    "## Export CSVs"
   ]
  },
  {
   "cell_type": "code",
   "execution_count": 114,
   "metadata": {},
   "outputs": [],
   "source": [
    "train_weather.to_csv('train_weather.csv',index=False)\n",
    "test_weather.to_csv('test_weather.csv',index=False)"
   ]
  }
 ],
 "metadata": {
  "kernelspec": {
   "display_name": "Python 3",
   "language": "python",
   "name": "python3"
  },
  "language_info": {
   "codemirror_mode": {
    "name": "ipython",
    "version": 3
   },
   "file_extension": ".py",
   "mimetype": "text/x-python",
   "name": "python",
   "nbconvert_exporter": "python",
   "pygments_lexer": "ipython3",
   "version": "3.6.8"
  }
 },
 "nbformat": 4,
 "nbformat_minor": 2
}
