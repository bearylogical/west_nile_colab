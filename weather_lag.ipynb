{
 "cells": [
  {
   "cell_type": "markdown",
   "metadata": {},
   "source": [
    "Use function *multi_merge(train,test,list_of_lag_days,list_of_feature_lists)* to create variations of our datasets.\n"
   ]
  },
  {
   "cell_type": "code",
   "execution_count": 4,
   "metadata": {},
   "outputs": [],
   "source": [
    "import pandas as pd\n",
    "import numpy as np\n",
    "import matplotlib.pyplot as plt\n",
    "import seaborn as sns\n",
    "import math\n",
    "import haversine as hv\n",
    "from datetime import timedelta"
   ]
  },
  {
   "cell_type": "code",
   "execution_count": 5,
   "metadata": {},
   "outputs": [],
   "source": [
    "STATIONS = {\n",
    "    1 : (41.995,-87.933),\n",
    "    2 : (41.786,-87.752)\n",
    "}"
   ]
  },
  {
   "cell_type": "code",
   "execution_count": 6,
   "metadata": {},
   "outputs": [],
   "source": [
    "def nearest_station(in_coords):\n",
    "    \n",
    "    dist = {k:hv.haversine(in_coords,v) for k,v in STATIONS.items()}\n",
    "    \n",
    "    return min(dist, key=dist.get)\n"
   ]
  },
  {
   "cell_type": "code",
   "execution_count": 19,
   "metadata": {},
   "outputs": [],
   "source": [
    "train = pd.read_csv(r'.\\data\\train.csv')\n",
    "test = pd.read_csv(r'.\\data\\test.csv')\n",
    "train['nearest_station'] = train.apply(lambda x: nearest_station([x.Latitude, x.Longitude]), axis=1)\n",
    "test['nearest_station'] = test.apply(lambda x: nearest_station([x.Latitude, x.Longitude]), axis=1)\n",
    "train.Date = train.Date.astype('datetime64[ns]')\n",
    "test.Date = test.Date.astype('datetime64[ns]')"
   ]
  },
  {
   "cell_type": "code",
   "execution_count": 11,
   "metadata": {},
   "outputs": [],
   "source": [
    "weather = pd.read_csv(r'.\\data\\weather_cleaned_stack_back.csv')\n",
    "weather.drop(columns='Unnamed: 0',inplace=True)\n",
    "weather.Date = weather.Date.astype('datetime64[ns]')"
   ]
  },
  {
   "cell_type": "code",
   "execution_count": 45,
   "metadata": {},
   "outputs": [],
   "source": [
    "temp_list=['Tmax','Tmin','Tavg','Depart','DewPoint','WetBulb','Cool']\n",
    "rain_list=['PrecipTotal']\n",
    "day_list=['Sunset','DaylightHrs']"
   ]
  },
  {
   "cell_type": "code",
   "execution_count": 61,
   "metadata": {},
   "outputs": [
    {
     "data": {
      "text/plain": [
       "Index(['Date', 'Address', 'Species', 'Block', 'Street', 'Trap',\n",
       "       'AddressNumberAndStreet', 'Latitude', 'Longitude', 'AddressAccuracy',\n",
       "       'NumMosquitos', 'WnvPresent', 'nearest_station', 'date_lag'],\n",
       "      dtype='object')"
      ]
     },
     "execution_count": 61,
     "metadata": {},
     "output_type": "execute_result"
    }
   ],
   "source": [
    "train.columns"
   ]
  },
  {
   "cell_type": "code",
   "execution_count": 77,
   "metadata": {},
   "outputs": [],
   "source": [
    "def to_merge(train,test,lag,feature_list):\n",
    "    train['date_lag'] = train.Date.map(lambda x : x - timedelta(days=lag))\n",
    "    test['date_lag'] = test.Date.map(lambda x : x - timedelta(days=lag))\n",
    "    feature_list=feature_list+['Date','Station']\n",
    "    train_weather = train.merge(weather[feature_list],left_on=['date_lag','nearest_station'],right_on=['Date','Station'])\n",
    "    test_weather = test.merge(weather[feature_list],left_on=['date_lag','nearest_station'],right_on=['Date','Station'])\n",
    "    train_weather.drop(['Date_y','Station'],axis=1,inplace=True)\n",
    "    train_weather.rename({'Date_x':'Date'},axis=1,inplace=True)\n",
    "    test_weather.drop(['Date_y','Station'],axis=1,inplace=True)\n",
    "    test_weather.rename({'Date_x':'Date'},axis=1,inplace=True)\n",
    "    return(train_weather,test_weather)"
   ]
  },
  {
   "cell_type": "code",
   "execution_count": 78,
   "metadata": {},
   "outputs": [
    {
     "data": {
      "text/plain": [
       "Index(['Date', 'Address', 'Species', 'Block', 'Street', 'Trap',\n",
       "       'AddressNumberAndStreet', 'Latitude', 'Longitude', 'AddressAccuracy',\n",
       "       'NumMosquitos', 'WnvPresent', 'nearest_station', 'date_lag', 'Tmax',\n",
       "       'Tmin', 'Tavg', 'Depart', 'DewPoint', 'WetBulb', 'Cool'],\n",
       "      dtype='object')"
      ]
     },
     "execution_count": 78,
     "metadata": {},
     "output_type": "execute_result"
    }
   ],
   "source": [
    "train_temp,test_temp=to_merge(train,test,3,temp_list)\n",
    "train_temp.columns"
   ]
  },
  {
   "cell_type": "code",
   "execution_count": 79,
   "metadata": {},
   "outputs": [],
   "source": [
    "def multi_merge(train,test,lag_list,list_of_lists):\n",
    "    if len(lag_list)!=len(list_of_lists):\n",
    "        print('Mismatch in list lengths')\n",
    "        return None\n",
    "    else:\n",
    "        for i in range(len(lag_list)):\n",
    "            train,test=to_merge(train,test,lag_list[i],list_of_lists[i])\n",
    "        return(test,train)"
   ]
  },
  {
   "cell_type": "code",
   "execution_count": 80,
   "metadata": {},
   "outputs": [],
   "source": [
    "lag_list=[0,3,11]\n",
    "feat_list=[day_list,temp_list,rain_list]\n",
    "train,test=multi_merge(train,test,lag_list,feat_list)"
   ]
  },
  {
   "cell_type": "code",
   "execution_count": 81,
   "metadata": {},
   "outputs": [
    {
     "data": {
      "text/plain": [
       "Index(['Id', 'Date', 'Address', 'Species', 'Block', 'Street', 'Trap',\n",
       "       'AddressNumberAndStreet', 'Latitude', 'Longitude', 'AddressAccuracy',\n",
       "       'nearest_station', 'date_lag', 'Sunset', 'DaylightHrs', 'Tmax', 'Tmin',\n",
       "       'Tavg', 'Depart', 'DewPoint', 'WetBulb', 'Cool', 'PrecipTotal'],\n",
       "      dtype='object')"
      ]
     },
     "execution_count": 81,
     "metadata": {},
     "output_type": "execute_result"
    }
   ],
   "source": [
    "train.columns"
   ]
  },
  {
   "cell_type": "code",
   "execution_count": null,
   "metadata": {},
   "outputs": [],
   "source": [
    "train_weather['month'] = train_weather.Date.map(lambda x : x.month)\n",
    "test_weather['month'] = test_weather.Date.map(lambda x : x.month)"
   ]
  },
  {
   "cell_type": "code",
   "execution_count": 111,
   "metadata": {},
   "outputs": [],
   "source": [
    "cols = ['month','Species','NumMosquitos','Sunset', 'Street',\n",
    "       'DaylightHrs', 'Tmax', 'Tmin', 'Tavg', 'Depart', 'DewPoint', 'WetBulb',\n",
    "       'Cool', 'PrecipTotal', 'StnPressure', 'SeaLevel', 'ResultSpeed',\n",
    "       'ResultDir', 'AvgSpeed','WnvPresent']"
   ]
  },
  {
   "cell_type": "code",
   "execution_count": 113,
   "metadata": {},
   "outputs": [],
   "source": [
    "train_weather = train_weather[cols]\n",
    "test_weather = test_weather[['month','Species','Sunset','Street',\n",
    "       'DaylightHrs', 'Tmax', 'Tmin', 'Tavg', 'Depart', 'DewPoint', 'WetBulb',\n",
    "       'Cool', 'PrecipTotal', 'StnPressure', 'SeaLevel', 'ResultSpeed',\n",
    "       'ResultDir', 'AvgSpeed']]"
   ]
  },
  {
   "cell_type": "markdown",
   "metadata": {},
   "source": [
    "## Export CSVs"
   ]
  },
  {
   "cell_type": "code",
   "execution_count": 114,
   "metadata": {},
   "outputs": [],
   "source": [
    "train_weather.to_csv('train_weather.csv',index=False)\n",
    "test_weather.to_csv('test_weather.csv',index=False)"
   ]
  }
 ],
 "metadata": {
  "kernelspec": {
   "display_name": "Python 3",
   "language": "python",
   "name": "python3"
  },
  "language_info": {
   "codemirror_mode": {
    "name": "ipython",
    "version": 3
   },
   "file_extension": ".py",
   "mimetype": "text/x-python",
   "name": "python",
   "nbconvert_exporter": "python",
   "pygments_lexer": "ipython3",
   "version": "3.7.3"
  }
 },
 "nbformat": 4,
 "nbformat_minor": 2
}
